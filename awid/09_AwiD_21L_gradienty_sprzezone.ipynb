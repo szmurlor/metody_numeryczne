{
 "cells": [
  {
   "cell_type": "code",
   "execution_count": 35,
   "id": "0b262f3d",
   "metadata": {},
   "outputs": [],
   "source": [
    "using LinearAlgebra\n",
    "using Plots"
   ]
  },
  {
   "cell_type": "markdown",
   "id": "f3f72b2c",
   "metadata": {},
   "source": [
    "Tylko przygotowujemy dane do obliczeń."
   ]
  },
  {
   "cell_type": "code",
   "execution_count": 36,
   "id": "52911420",
   "metadata": {},
   "outputs": [
    {
     "data": {
      "text/plain": [
       "2-element Array{Int64,1}:\n",
       "  5\n",
       " 10"
      ]
     },
     "execution_count": 36,
     "metadata": {},
     "output_type": "execute_result"
    }
   ],
   "source": [
    "A = [1 2; 2 4]\n",
    "x = [1;2]\n",
    "b = A*x"
   ]
  },
  {
   "cell_type": "markdown",
   "id": "638155e7",
   "metadata": {},
   "source": [
    "Algorytm najszybszego spadku.\n",
    "\n",
    "Procedura:\n",
    "\n",
    "1. Wyznaczamy gradient (kierunek najszybszego wzrostu): $r_k = b - Ax_k$\n",
    "2. Metodą rzutowania wyznacz przybliżone rozwiązanie w zredukowanym wymiarze (obliczamy współczynnik ak) $a_k = r_k^Tr_k / (r_k^TAr_k)$\n",
    "3. Obliczamy nową poprawioną wartość $x_{k+1} = x_k + a_k * r_k$"
   ]
  },
  {
   "cell_type": "code",
   "execution_count": 37,
   "id": "92c4fd0e",
   "metadata": {},
   "outputs": [
    {
     "data": {
      "text/plain": [
       "stepesc_descent (generic function with 1 method)"
      ]
     },
     "execution_count": 37,
     "metadata": {},
     "output_type": "execute_result"
    }
   ],
   "source": [
    "function stepesc_descent(A,b,x0)\n",
    "    R = Array{Float64}(undef,0)\n",
    "    xk = x0\n",
    "    rk = b-A*x0\n",
    "    maxiter = 100\n",
    "    iter = 1\n",
    "    \n",
    "    while ((norm(rk) > 1e-5) && (iter < maxiter))\n",
    "        ak = rk'*rk / (rk'*A*rk)        \n",
    "        xk = xk + ak*rk\n",
    "        rk = b - A*xk\n",
    "        push!(R, norm(rk))\n",
    "        iter += 1\n",
    "    end\n",
    "    \n",
    "    return xk, iter,R\n",
    "end"
   ]
  },
  {
   "cell_type": "markdown",
   "id": "16035131",
   "metadata": {},
   "source": [
    "Tylko sprawdzamy jak to działa, czy zwróci oczekiwany wynik: $[1,2]$"
   ]
  },
  {
   "cell_type": "code",
   "execution_count": 38,
   "id": "50683da7",
   "metadata": {},
   "outputs": [
    {
     "name": "stdout",
     "output_type": "stream",
     "text": [
      "x = [1.0, 2.0] w 2 iteracjach. Wartość residuum |Ax-b|= 0.0\n"
     ]
    },
    {
     "ename": "ArgumentError",
     "evalue": "\u001b[91mArgumentError: reducing over an empty collection is not allowed\u001b[39m",
     "output_type": "error",
     "traceback": [
      "\u001b[91mArgumentError: reducing over an empty collection is not allowed\u001b[39m",
      "",
      "Stacktrace:",
      " [1] _empty_reduce_error() at ./reduce.jl:299",
      " [2] mapreduce_empty(::Function, ::Base.MappingRF{Plots.var\"#7#14\",Base.BottomRF{typeof(min)}}, ::Type{T} where T) at ./reduce.jl:342",
      " [3] reduce_empty(::Base.MappingRF{Plots.var\"#6#13\",Base.MappingRF{Plots.var\"#7#14\",Base.BottomRF{typeof(min)}}}, ::Type{Any}) at ./reduce.jl:329",
      " [4] reduce_empty_iter at ./reduce.jl:355 [inlined]",
      " [5] reduce_empty_iter at ./reduce.jl:354 [inlined]",
      " [6] foldl_impl(::Base.MappingRF{Plots.var\"#6#13\",Base.MappingRF{Plots.var\"#7#14\",Base.BottomRF{typeof(min)}}}, ::NamedTuple{(),Tuple{}}, ::Array{Any,1}) at ./reduce.jl:49",
      " [7] mapfoldl_impl(::typeof(identity), ::typeof(min), ::NamedTuple{(),Tuple{}}, ::Base.Generator{Base.Generator{Array{Any,1},Plots.var\"#6#13\"},Plots.var\"#7#14\"}) at ./reduce.jl:44",
      " [8] #mapfoldl#204 at ./reduce.jl:160 [inlined]",
      " [9] mapfoldl at ./reduce.jl:160 [inlined]",
      " [10] #mapreduce#208 at ./reduce.jl:287 [inlined]",
      " [11] mapreduce at ./reduce.jl:287 [inlined]",
      " [12] minimum(::Base.Generator{Base.Generator{Array{Any,1},Plots.var\"#6#13\"},Plots.var\"#7#14\"}) at ./reduce.jl:668",
      " [13] series_segments(::Plots.Series, ::Symbol) at /home/szmurlor/.julia/packages/Plots/z5Msu/src/utils.jl:97",
      " [14] gr_draw_markers(::Plots.Series, ::Base.OneTo{Int64}, ::Array{Float64,1}, ::Tuple{Float64,Float64}, ::Int64, ::Int64) at /home/szmurlor/.julia/packages/Plots/z5Msu/src/backends/gr.jl:1734",
      " [15] gr_draw_markers(::Plots.Series, ::Base.OneTo{Int64}, ::Array{Float64,1}, ::Tuple{Float64,Float64}) at /home/szmurlor/.julia/packages/Plots/z5Msu/src/backends/gr.jl:1729",
      " [16] gr_add_series(::Plots.Subplot{Plots.GRBackend}, ::Plots.Series) at /home/szmurlor/.julia/packages/Plots/z5Msu/src/backends/gr.jl:1615",
      " [17] gr_display(::Plots.Subplot{Plots.GRBackend}, ::Measures.Length{:mm,Float64}, ::Measures.Length{:mm,Float64}, ::Array{Float64,1}) at /home/szmurlor/.julia/packages/Plots/z5Msu/src/backends/gr.jl:935",
      " [18] gr_display(::Plots.Plot{Plots.GRBackend}, ::String) at /home/szmurlor/.julia/packages/Plots/z5Msu/src/backends/gr.jl:626",
      " [19] _show(::Base.GenericIOBuffer{Array{UInt8,1}}, ::MIME{Symbol(\"image/svg+xml\")}, ::Plots.Plot{Plots.GRBackend}) at /home/szmurlor/.julia/packages/Plots/z5Msu/src/backends/gr.jl:1869",
      " [20] show(::Base.GenericIOBuffer{Array{UInt8,1}}, ::MIME{Symbol(\"image/svg+xml\")}, ::Plots.Plot{Plots.GRBackend}) at /home/szmurlor/.julia/packages/Plots/z5Msu/src/output.jl:215",
      " [21] sprint(::Function, ::MIME{Symbol(\"image/svg+xml\")}, ::Vararg{Any,N} where N; context::Nothing, sizehint::Int64) at ./strings/io.jl:105",
      " [22] sprint at ./strings/io.jl:101 [inlined]",
      " [23] _ijulia_display_dict(::Plots.Plot{Plots.GRBackend}) at /home/szmurlor/.julia/packages/Plots/z5Msu/src/ijulia.jl:53",
      " [24] display_dict(::Plots.Plot{Plots.GRBackend}) at /home/szmurlor/.julia/packages/Plots/z5Msu/src/init.jl:77",
      " [25] #invokelatest#1 at ./essentials.jl:710 [inlined]",
      " [26] invokelatest at ./essentials.jl:709 [inlined]",
      " [27] execute_request(::ZMQ.Socket, ::IJulia.Msg) at /home/szmurlor/.julia/packages/IJulia/e8kqU/src/execute_request.jl:112",
      " [28] #invokelatest#1 at ./essentials.jl:710 [inlined]",
      " [29] invokelatest at ./essentials.jl:709 [inlined]",
      " [30] eventloop(::ZMQ.Socket) at /home/szmurlor/.julia/packages/IJulia/e8kqU/src/eventloop.jl:8",
      " [31] (::IJulia.var\"#15#18\")() at ./task.jl:356"
     ]
    }
   ],
   "source": [
    "x,i,R = stepesc_descent(A,b,[0,0])\n",
    "println(\"x = $x w $i iteracjach. Wartość residuum |Ax-b|= $(norm(A*x-b))\")\n",
    "plot(log10.(R),markershape=:circle)"
   ]
  },
  {
   "cell_type": "code",
   "execution_count": 39,
   "id": "b65b9ee5",
   "metadata": {},
   "outputs": [
    {
     "name": "stdout",
     "output_type": "stream",
     "text": [
      "[-1.8625710545006058e-6, -1.824559400231962e-6]\n",
      "x = [0.06622494907269753, 0.19867522733463655] w 5 iteracjach. Wartość residuum |Ax-b|= 2.607333491910522e-6\n",
      "[0.05880866069097856, 0.007013011408551878, 2.1864186669587857e-5, 2.607333491910522e-6]"
     ]
    },
    {
     "data": {
      "image/svg+xml": [
       "<?xml version=\"1.0\" encoding=\"utf-8\"?>\n",
       "<svg xmlns=\"http://www.w3.org/2000/svg\" xmlns:xlink=\"http://www.w3.org/1999/xlink\" width=\"600\" height=\"400\" viewBox=\"0 0 2400 1600\">\n",
       "<defs>\n",
       "  <clipPath id=\"clip930\">\n",
       "    <rect x=\"0\" y=\"0\" width=\"2400\" height=\"1600\"/>\n",
       "  </clipPath>\n",
       "</defs>\n",
       "<path clip-path=\"url(#clip930)\" d=\"\n",
       "M0 1600 L2400 1600 L2400 0 L0 0  Z\n",
       "  \" fill=\"#ffffff\" fill-rule=\"evenodd\" fill-opacity=\"1\"/>\n",
       "<defs>\n",
       "  <clipPath id=\"clip931\">\n",
       "    <rect x=\"480\" y=\"0\" width=\"1681\" height=\"1600\"/>\n",
       "  </clipPath>\n",
       "</defs>\n",
       "<path clip-path=\"url(#clip930)\" d=\"\n",
       "M144.168 1486.45 L2352.76 1486.45 L2352.76 47.2441 L144.168 47.2441  Z\n",
       "  \" fill=\"#ffffff\" fill-rule=\"evenodd\" fill-opacity=\"1\"/>\n",
       "<defs>\n",
       "  <clipPath id=\"clip932\">\n",
       "    <rect x=\"144\" y=\"47\" width=\"2210\" height=\"1440\"/>\n",
       "  </clipPath>\n",
       "</defs>\n",
       "<polyline clip-path=\"url(#clip932)\" style=\"stroke:#000000; stroke-width:2; stroke-opacity:0.1; fill:none\" points=\"\n",
       "  206.675,1486.45 206.675,47.2441 \n",
       "  \"/>\n",
       "<polyline clip-path=\"url(#clip932)\" style=\"stroke:#000000; stroke-width:2; stroke-opacity:0.1; fill:none\" points=\"\n",
       "  901.2,1486.45 901.2,47.2441 \n",
       "  \"/>\n",
       "<polyline clip-path=\"url(#clip932)\" style=\"stroke:#000000; stroke-width:2; stroke-opacity:0.1; fill:none\" points=\"\n",
       "  1595.72,1486.45 1595.72,47.2441 \n",
       "  \"/>\n",
       "<polyline clip-path=\"url(#clip932)\" style=\"stroke:#000000; stroke-width:2; stroke-opacity:0.1; fill:none\" points=\"\n",
       "  2290.25,1486.45 2290.25,47.2441 \n",
       "  \"/>\n",
       "<polyline clip-path=\"url(#clip930)\" style=\"stroke:#000000; stroke-width:4; stroke-opacity:1; fill:none\" points=\"\n",
       "  144.168,1486.45 2352.76,1486.45 \n",
       "  \"/>\n",
       "<polyline clip-path=\"url(#clip930)\" style=\"stroke:#000000; stroke-width:4; stroke-opacity:1; fill:none\" points=\"\n",
       "  206.675,1486.45 206.675,1469.18 \n",
       "  \"/>\n",
       "<polyline clip-path=\"url(#clip930)\" style=\"stroke:#000000; stroke-width:4; stroke-opacity:1; fill:none\" points=\"\n",
       "  901.2,1486.45 901.2,1469.18 \n",
       "  \"/>\n",
       "<polyline clip-path=\"url(#clip930)\" style=\"stroke:#000000; stroke-width:4; stroke-opacity:1; fill:none\" points=\"\n",
       "  1595.72,1486.45 1595.72,1469.18 \n",
       "  \"/>\n",
       "<polyline clip-path=\"url(#clip930)\" style=\"stroke:#000000; stroke-width:4; stroke-opacity:1; fill:none\" points=\"\n",
       "  2290.25,1486.45 2290.25,1469.18 \n",
       "  \"/>\n",
       "<path clip-path=\"url(#clip930)\" d=\"M 0 0 M197.057 1543.18 L204.696 1543.18 L204.696 1516.82 L196.386 1518.49 L196.386 1514.23 L204.65 1512.56 L209.325 1512.56 L209.325 1543.18 L216.964 1543.18 L216.964 1547.12 L197.057 1547.12 L197.057 1543.18 Z\" fill=\"#000000\" fill-rule=\"evenodd\" fill-opacity=\"1\" /><path clip-path=\"url(#clip930)\" d=\"M 0 0 M895.852 1543.18 L912.172 1543.18 L912.172 1547.12 L890.227 1547.12 L890.227 1543.18 Q892.889 1540.43 897.473 1535.8 Q902.079 1531.15 903.26 1529.81 Q905.505 1527.28 906.385 1525.55 Q907.287 1523.79 907.287 1522.1 Q907.287 1519.34 905.343 1517.61 Q903.422 1515.87 900.32 1515.87 Q898.121 1515.87 895.667 1516.63 Q893.237 1517.4 890.459 1518.95 L890.459 1514.23 Q893.283 1513.09 895.737 1512.51 Q898.19 1511.93 900.227 1511.93 Q905.598 1511.93 908.792 1514.62 Q911.987 1517.31 911.987 1521.8 Q911.987 1523.93 911.176 1525.85 Q910.389 1527.74 908.283 1530.34 Q907.704 1531.01 904.602 1534.23 Q901.5 1537.42 895.852 1543.18 Z\" fill=\"#000000\" fill-rule=\"evenodd\" fill-opacity=\"1\" /><path clip-path=\"url(#clip930)\" d=\"M 0 0 M1599.97 1528.49 Q1603.33 1529.2 1605.2 1531.47 Q1607.1 1533.74 1607.1 1537.07 Q1607.1 1542.19 1603.58 1544.99 Q1600.06 1547.79 1593.58 1547.79 Q1591.41 1547.79 1589.09 1547.35 Q1586.8 1546.93 1584.35 1546.08 L1584.35 1541.56 Q1586.29 1542.7 1588.61 1543.28 Q1590.92 1543.86 1593.44 1543.86 Q1597.84 1543.86 1600.13 1542.12 Q1602.45 1540.38 1602.45 1537.07 Q1602.45 1534.02 1600.3 1532.31 Q1598.17 1530.57 1594.35 1530.57 L1590.32 1530.57 L1590.32 1526.73 L1594.53 1526.73 Q1597.98 1526.73 1599.81 1525.36 Q1601.64 1523.97 1601.64 1521.38 Q1601.64 1518.72 1599.74 1517.31 Q1597.87 1515.87 1594.35 1515.87 Q1592.43 1515.87 1590.23 1516.29 Q1588.03 1516.7 1585.39 1517.58 L1585.39 1513.42 Q1588.05 1512.68 1590.37 1512.31 Q1592.7 1511.93 1594.76 1511.93 Q1600.09 1511.93 1603.19 1514.37 Q1606.29 1516.77 1606.29 1520.89 Q1606.29 1523.76 1604.65 1525.75 Q1603 1527.72 1599.97 1528.49 Z\" fill=\"#000000\" fill-rule=\"evenodd\" fill-opacity=\"1\" /><path clip-path=\"url(#clip930)\" d=\"M 0 0 M2293.26 1516.63 L2281.45 1535.08 L2293.26 1535.08 L2293.26 1516.63 M2292.03 1512.56 L2297.91 1512.56 L2297.91 1535.08 L2302.84 1535.08 L2302.84 1538.97 L2297.91 1538.97 L2297.91 1547.12 L2293.26 1547.12 L2293.26 1538.97 L2277.66 1538.97 L2277.66 1534.46 L2292.03 1512.56 Z\" fill=\"#000000\" fill-rule=\"evenodd\" fill-opacity=\"1\" /><polyline clip-path=\"url(#clip932)\" style=\"stroke:#000000; stroke-width:2; stroke-opacity:0.1; fill:none\" points=\"\n",
       "  144.168,1263.63 2352.76,1263.63 \n",
       "  \"/>\n",
       "<polyline clip-path=\"url(#clip932)\" style=\"stroke:#000000; stroke-width:2; stroke-opacity:0.1; fill:none\" points=\"\n",
       "  144.168,951.741 2352.76,951.741 \n",
       "  \"/>\n",
       "<polyline clip-path=\"url(#clip932)\" style=\"stroke:#000000; stroke-width:2; stroke-opacity:0.1; fill:none\" points=\"\n",
       "  144.168,639.85 2352.76,639.85 \n",
       "  \"/>\n",
       "<polyline clip-path=\"url(#clip932)\" style=\"stroke:#000000; stroke-width:2; stroke-opacity:0.1; fill:none\" points=\"\n",
       "  144.168,327.958 2352.76,327.958 \n",
       "  \"/>\n",
       "<polyline clip-path=\"url(#clip930)\" style=\"stroke:#000000; stroke-width:4; stroke-opacity:1; fill:none\" points=\"\n",
       "  144.168,1486.45 144.168,47.2441 \n",
       "  \"/>\n",
       "<polyline clip-path=\"url(#clip930)\" style=\"stroke:#000000; stroke-width:4; stroke-opacity:1; fill:none\" points=\"\n",
       "  144.168,1263.63 170.671,1263.63 \n",
       "  \"/>\n",
       "<polyline clip-path=\"url(#clip930)\" style=\"stroke:#000000; stroke-width:4; stroke-opacity:1; fill:none\" points=\"\n",
       "  144.168,951.741 170.671,951.741 \n",
       "  \"/>\n",
       "<polyline clip-path=\"url(#clip930)\" style=\"stroke:#000000; stroke-width:4; stroke-opacity:1; fill:none\" points=\"\n",
       "  144.168,639.85 170.671,639.85 \n",
       "  \"/>\n",
       "<polyline clip-path=\"url(#clip930)\" style=\"stroke:#000000; stroke-width:4; stroke-opacity:1; fill:none\" points=\"\n",
       "  144.168,327.958 170.671,327.958 \n",
       "  \"/>\n",
       "<path clip-path=\"url(#clip930)\" d=\"M 0 0 M52.4736 1264.08 L82.1494 1264.08 L82.1494 1268.02 L52.4736 1268.02 L52.4736 1264.08 Z\" fill=\"#000000\" fill-rule=\"evenodd\" fill-opacity=\"1\" /><path clip-path=\"url(#clip930)\" d=\"M 0 0 M87.2651 1246.35 L105.621 1246.35 L105.621 1250.29 L91.5475 1250.29 L91.5475 1258.76 Q92.566 1258.41 93.5845 1258.25 Q94.603 1258.07 95.6215 1258.07 Q101.409 1258.07 104.788 1261.24 Q108.168 1264.41 108.168 1269.82 Q108.168 1275.4 104.696 1278.51 Q101.223 1281.58 94.9039 1281.58 Q92.728 1281.58 90.4595 1281.21 Q88.2141 1280.84 85.8068 1280.1 L85.8068 1275.4 Q87.8901 1276.54 90.1123 1277.09 Q92.3345 1277.65 94.8113 1277.65 Q98.8159 1277.65 101.154 1275.54 Q103.492 1273.44 103.492 1269.82 Q103.492 1266.21 101.154 1264.11 Q98.8159 1262 94.8113 1262 Q92.9363 1262 91.0614 1262.42 Q89.2095 1262.83 87.2651 1263.71 L87.2651 1246.35 Z\" fill=\"#000000\" fill-rule=\"evenodd\" fill-opacity=\"1\" /><path clip-path=\"url(#clip930)\" d=\"M 0 0 M50.9921 952.192 L80.6679 952.192 L80.6679 956.128 L50.9921 956.128 L50.9921 952.192 Z\" fill=\"#000000\" fill-rule=\"evenodd\" fill-opacity=\"1\" /><path clip-path=\"url(#clip930)\" d=\"M 0 0 M98.5845 938.535 L86.779 956.984 L98.5845 956.984 L98.5845 938.535 M97.3576 934.461 L103.237 934.461 L103.237 956.984 L108.168 956.984 L108.168 960.873 L103.237 960.873 L103.237 969.021 L98.5845 969.021 L98.5845 960.873 L82.9827 960.873 L82.9827 956.359 L97.3576 934.461 Z\" fill=\"#000000\" fill-rule=\"evenodd\" fill-opacity=\"1\" /><path clip-path=\"url(#clip930)\" d=\"M 0 0 M52.1264 640.301 L81.8021 640.301 L81.8021 644.236 L52.1264 644.236 L52.1264 640.301 Z\" fill=\"#000000\" fill-rule=\"evenodd\" fill-opacity=\"1\" /><path clip-path=\"url(#clip930)\" d=\"M 0 0 M101.038 638.496 Q104.395 639.213 106.27 641.482 Q108.168 643.75 108.168 647.083 Q108.168 652.199 104.649 655 Q101.131 657.801 94.6493 657.801 Q92.4734 657.801 90.1586 657.361 Q87.8669 656.945 85.4132 656.088 L85.4132 651.574 Q87.3577 652.708 89.6725 653.287 Q91.9873 653.866 94.5104 653.866 Q98.9085 653.866 101.2 652.13 Q103.515 650.394 103.515 647.083 Q103.515 644.028 101.362 642.315 Q99.2326 640.579 95.4132 640.579 L91.3854 640.579 L91.3854 636.736 L95.5984 636.736 Q99.0474 636.736 100.876 635.371 Q102.705 633.982 102.705 631.389 Q102.705 628.727 100.807 627.315 Q98.9317 625.88 95.4132 625.88 Q93.4919 625.88 91.2928 626.297 Q89.0938 626.713 86.4549 627.593 L86.4549 623.426 Q89.1169 622.685 91.4317 622.315 Q93.7697 621.945 95.8298 621.945 Q101.154 621.945 104.256 624.375 Q107.358 626.783 107.358 630.903 Q107.358 633.773 105.714 635.764 Q104.071 637.732 101.038 638.496 Z\" fill=\"#000000\" fill-rule=\"evenodd\" fill-opacity=\"1\" /><path clip-path=\"url(#clip930)\" d=\"M 0 0 M53.0754 328.41 L82.7512 328.41 L82.7512 332.345 L53.0754 332.345 L53.0754 328.41 Z\" fill=\"#000000\" fill-rule=\"evenodd\" fill-opacity=\"1\" /><path clip-path=\"url(#clip930)\" d=\"M 0 0 M91.8484 341.303 L108.168 341.303 L108.168 345.238 L86.2234 345.238 L86.2234 341.303 Q88.8854 338.549 93.4688 333.919 Q98.0752 329.266 99.2558 327.924 Q101.501 325.401 102.381 323.664 Q103.284 321.905 103.284 320.215 Q103.284 317.461 101.339 315.725 Q99.4178 313.989 96.316 313.989 Q94.1169 313.989 91.6632 314.752 Q89.2327 315.516 86.4549 317.067 L86.4549 312.345 Q89.279 311.211 91.7326 310.632 Q94.1863 310.053 96.2234 310.053 Q101.594 310.053 104.788 312.739 Q107.983 315.424 107.983 319.914 Q107.983 322.044 107.172 323.965 Q106.385 325.863 104.279 328.456 Q103.7 329.127 100.598 332.345 Q97.4965 335.539 91.8484 341.303 Z\" fill=\"#000000\" fill-rule=\"evenodd\" fill-opacity=\"1\" /><polyline clip-path=\"url(#clip932)\" style=\"stroke:#009af9; stroke-width:4; stroke-opacity:1; fill:none\" points=\"\n",
       "  206.675,87.9763 901.2,376.019 1595.72,1157.67 2290.25,1445.72 \n",
       "  \"/>\n",
       "<circle clip-path=\"url(#clip932)\" cx=\"206.675\" cy=\"87.9763\" r=\"14\" fill=\"#009af9\" fill-rule=\"evenodd\" fill-opacity=\"1\" stroke=\"#000000\" stroke-opacity=\"1\" stroke-width=\"3.2\"/>\n",
       "<circle clip-path=\"url(#clip932)\" cx=\"901.2\" cy=\"376.019\" r=\"14\" fill=\"#009af9\" fill-rule=\"evenodd\" fill-opacity=\"1\" stroke=\"#000000\" stroke-opacity=\"1\" stroke-width=\"3.2\"/>\n",
       "<circle clip-path=\"url(#clip932)\" cx=\"1595.72\" cy=\"1157.67\" r=\"14\" fill=\"#009af9\" fill-rule=\"evenodd\" fill-opacity=\"1\" stroke=\"#000000\" stroke-opacity=\"1\" stroke-width=\"3.2\"/>\n",
       "<circle clip-path=\"url(#clip932)\" cx=\"2290.25\" cy=\"1445.72\" r=\"14\" fill=\"#009af9\" fill-rule=\"evenodd\" fill-opacity=\"1\" stroke=\"#000000\" stroke-opacity=\"1\" stroke-width=\"3.2\"/>\n",
       "<path clip-path=\"url(#clip930)\" d=\"\n",
       "M1982.72 216.178 L2279.14 216.178 L2279.14 95.2176 L1982.72 95.2176  Z\n",
       "  \" fill=\"#ffffff\" fill-rule=\"evenodd\" fill-opacity=\"1\"/>\n",
       "<polyline clip-path=\"url(#clip930)\" style=\"stroke:#000000; stroke-width:4; stroke-opacity:1; fill:none\" points=\"\n",
       "  1982.72,216.178 2279.14,216.178 2279.14,95.2176 1982.72,95.2176 1982.72,216.178 \n",
       "  \"/>\n",
       "<polyline clip-path=\"url(#clip930)\" style=\"stroke:#009af9; stroke-width:4; stroke-opacity:1; fill:none\" points=\"\n",
       "  2007.26,155.698 2154.5,155.698 \n",
       "  \"/>\n",
       "<circle clip-path=\"url(#clip930)\" cx=\"2080.88\" cy=\"155.698\" r=\"23\" fill=\"#009af9\" fill-rule=\"evenodd\" fill-opacity=\"1\" stroke=\"#000000\" stroke-opacity=\"1\" stroke-width=\"5.12\"/>\n",
       "<path clip-path=\"url(#clip930)\" d=\"M 0 0 M2192.88 175.385 Q2191.08 180.015 2189.36 181.427 Q2187.65 182.839 2184.78 182.839 L2181.38 182.839 L2181.38 179.274 L2183.88 179.274 Q2185.64 179.274 2186.61 178.44 Q2187.58 177.607 2188.76 174.505 L2189.52 172.561 L2179.04 147.052 L2183.55 147.052 L2191.65 167.329 L2199.76 147.052 L2204.27 147.052 L2192.88 175.385 Z\" fill=\"#000000\" fill-rule=\"evenodd\" fill-opacity=\"1\" /><path clip-path=\"url(#clip930)\" d=\"M 0 0 M2210.15 169.042 L2217.79 169.042 L2217.79 142.677 L2209.48 144.343 L2209.48 140.084 L2217.74 138.418 L2222.42 138.418 L2222.42 169.042 L2230.06 169.042 L2230.06 172.978 L2210.15 172.978 L2210.15 169.042 Z\" fill=\"#000000\" fill-rule=\"evenodd\" fill-opacity=\"1\" /></svg>\n"
      ]
     },
     "execution_count": 39,
     "metadata": {},
     "output_type": "execute_result"
    }
   ],
   "source": [
    "A = [4 3.7\n",
    "    3.7 3.8]\n",
    "b = [1;1]\n",
    "x,i,R = stepesc_descent(A,b,[-1.5,-1.75])\n",
    "println(A*x-b)\n",
    "println(\"x = $x w $i iteracjach. Wartość residuum |Ax-b|= $(norm(A*x-b))\")\n",
    "print(R)\n",
    "plot(log10.(R),markershape=:circle)"
   ]
  },
  {
   "cell_type": "code",
   "execution_count": 40,
   "id": "d510fadc",
   "metadata": {},
   "outputs": [
    {
     "data": {
      "text/plain": [
       "2×2 Array{Float64,2}:\n",
       " 4.0  3.7\n",
       " 3.7  3.8"
      ]
     },
     "execution_count": 40,
     "metadata": {},
     "output_type": "execute_result"
    }
   ],
   "source": [
    "A"
   ]
  },
  {
   "cell_type": "code",
   "execution_count": 41,
   "id": "f5497a2d",
   "metadata": {},
   "outputs": [
    {
     "data": {
      "text/plain": [
       "mycg (generic function with 1 method)"
      ]
     },
     "execution_count": 41,
     "metadata": {},
     "output_type": "execute_result"
    }
   ],
   "source": [
    "function mycg(A,b,x0)\n",
    "    R = Array{Float64}(undef,0)\n",
    "    r0 = b - A*x0\n",
    "    p0 = r0\n",
    "    k = 0\n",
    "    pk = p0\n",
    "    xk = x0\n",
    "    rk = r0\n",
    "    \n",
    "    while (k < 100 && norm(rk) > 1e-6)\n",
    "        ak = rk'*rk / (pk'*A*pk)\n",
    "        println(\"ak = $ak\")\n",
    "        xk = xk + ak*pk\n",
    "        rk1 = rk - ak*A*pk\n",
    "        bk = rk1'*rk1 / (rk'*rk)\n",
    "        pk = rk1 + bk*pk\n",
    "        println(\"pk = $pk\")\n",
    "        rk = rk1\n",
    "        push!(R, norm(rk))\n",
    "        k += 1\n",
    "    end\n",
    "    \n",
    "    return xk,k, R\n",
    "end"
   ]
  },
  {
   "cell_type": "code",
   "execution_count": 42,
   "id": "c2f4ced7",
   "metadata": {},
   "outputs": [
    {
     "name": "stdout",
     "output_type": "stream",
     "text": [
      "Wartości własne: Eigen{Float64,Float64,Array{Float64,2},Array{Float64,1}}([-14.761225753550267, -5.256695406687572, -4.082078839762153], [-0.6394206433742211 0.6853099831591123 0.3485562620429514; -0.7377002945250551 -0.4190956217863884 -0.5292987202489037; -0.21665529369148578 -0.5955745854063434 0.7735317685354093])\n",
      "b = [-14.7, -16.8, -8.0]\n",
      "ak = -0.0831787381546788\n",
      "pk = [-3.5189010644498127, 8.096206962795877, -8.230258297863474]\n",
      "ak = -0.19918564447155568\n",
      "pk = [0.15096866093003558, -0.08556488320623999, -0.15634010897526238]\n",
      "ak = -0.19055178158119634\n",
      "pk = [-2.581268532253451e-15, -2.3592239273284793e-15, -1.2212453270877114e-15]\n",
      "[0.0, 3.552713678800501e-15, 0.0]\n",
      "x = [1.0000000000000002, 0.9999999999999997, 1.0000000000000002] w 3 iteracjach. Wartość residuum |Ax-b|= 3.552713678800501e-15\n",
      "[11.253136354397032, 0.23351253989918522, 3.704095695823026e-15]"
     ]
    },
    {
     "data": {
      "image/svg+xml": [
       "<?xml version=\"1.0\" encoding=\"utf-8\"?>\n",
       "<svg xmlns=\"http://www.w3.org/2000/svg\" xmlns:xlink=\"http://www.w3.org/1999/xlink\" width=\"600\" height=\"400\" viewBox=\"0 0 2400 1600\">\n",
       "<defs>\n",
       "  <clipPath id=\"clip970\">\n",
       "    <rect x=\"0\" y=\"0\" width=\"2400\" height=\"1600\"/>\n",
       "  </clipPath>\n",
       "</defs>\n",
       "<path clip-path=\"url(#clip970)\" d=\"\n",
       "M0 1600 L2400 1600 L2400 0 L0 0  Z\n",
       "  \" fill=\"#ffffff\" fill-rule=\"evenodd\" fill-opacity=\"1\"/>\n",
       "<defs>\n",
       "  <clipPath id=\"clip971\">\n",
       "    <rect x=\"480\" y=\"0\" width=\"1681\" height=\"1600\"/>\n",
       "  </clipPath>\n",
       "</defs>\n",
       "<path clip-path=\"url(#clip970)\" d=\"\n",
       "M167.871 1486.45 L2352.76 1486.45 L2352.76 47.2441 L167.871 47.2441  Z\n",
       "  \" fill=\"#ffffff\" fill-rule=\"evenodd\" fill-opacity=\"1\"/>\n",
       "<defs>\n",
       "  <clipPath id=\"clip972\">\n",
       "    <rect x=\"167\" y=\"47\" width=\"2186\" height=\"1440\"/>\n",
       "  </clipPath>\n",
       "</defs>\n",
       "<polyline clip-path=\"url(#clip972)\" style=\"stroke:#000000; stroke-width:2; stroke-opacity:0.1; fill:none\" points=\"\n",
       "  229.708,1486.45 229.708,47.2441 \n",
       "  \"/>\n",
       "<polyline clip-path=\"url(#clip972)\" style=\"stroke:#000000; stroke-width:2; stroke-opacity:0.1; fill:none\" points=\"\n",
       "  745.011,1486.45 745.011,47.2441 \n",
       "  \"/>\n",
       "<polyline clip-path=\"url(#clip972)\" style=\"stroke:#000000; stroke-width:2; stroke-opacity:0.1; fill:none\" points=\"\n",
       "  1260.31,1486.45 1260.31,47.2441 \n",
       "  \"/>\n",
       "<polyline clip-path=\"url(#clip972)\" style=\"stroke:#000000; stroke-width:2; stroke-opacity:0.1; fill:none\" points=\"\n",
       "  1775.62,1486.45 1775.62,47.2441 \n",
       "  \"/>\n",
       "<polyline clip-path=\"url(#clip972)\" style=\"stroke:#000000; stroke-width:2; stroke-opacity:0.1; fill:none\" points=\"\n",
       "  2290.92,1486.45 2290.92,47.2441 \n",
       "  \"/>\n",
       "<polyline clip-path=\"url(#clip970)\" style=\"stroke:#000000; stroke-width:4; stroke-opacity:1; fill:none\" points=\"\n",
       "  167.871,1486.45 2352.76,1486.45 \n",
       "  \"/>\n",
       "<polyline clip-path=\"url(#clip970)\" style=\"stroke:#000000; stroke-width:4; stroke-opacity:1; fill:none\" points=\"\n",
       "  229.708,1486.45 229.708,1469.18 \n",
       "  \"/>\n",
       "<polyline clip-path=\"url(#clip970)\" style=\"stroke:#000000; stroke-width:4; stroke-opacity:1; fill:none\" points=\"\n",
       "  745.011,1486.45 745.011,1469.18 \n",
       "  \"/>\n",
       "<polyline clip-path=\"url(#clip970)\" style=\"stroke:#000000; stroke-width:4; stroke-opacity:1; fill:none\" points=\"\n",
       "  1260.31,1486.45 1260.31,1469.18 \n",
       "  \"/>\n",
       "<polyline clip-path=\"url(#clip970)\" style=\"stroke:#000000; stroke-width:4; stroke-opacity:1; fill:none\" points=\"\n",
       "  1775.62,1486.45 1775.62,1469.18 \n",
       "  \"/>\n",
       "<polyline clip-path=\"url(#clip970)\" style=\"stroke:#000000; stroke-width:4; stroke-opacity:1; fill:none\" points=\"\n",
       "  2290.92,1486.45 2290.92,1469.18 \n",
       "  \"/>\n",
       "<path clip-path=\"url(#clip970)\" d=\"M 0 0 M201.606 1543.18 L209.245 1543.18 L209.245 1516.82 L200.935 1518.49 L200.935 1514.23 L209.199 1512.56 L213.874 1512.56 L213.874 1543.18 L221.513 1543.18 L221.513 1547.12 L201.606 1547.12 L201.606 1543.18 Z\" fill=\"#000000\" fill-rule=\"evenodd\" fill-opacity=\"1\" /><path clip-path=\"url(#clip970)\" d=\"M 0 0 M226.583 1541.24 L231.467 1541.24 L231.467 1547.12 L226.583 1547.12 L226.583 1541.24 Z\" fill=\"#000000\" fill-rule=\"evenodd\" fill-opacity=\"1\" /><path clip-path=\"url(#clip970)\" d=\"M 0 0 M246.536 1515.64 Q242.925 1515.64 241.097 1519.2 Q239.291 1522.75 239.291 1529.87 Q239.291 1536.98 241.097 1540.55 Q242.925 1544.09 246.536 1544.09 Q250.171 1544.09 251.976 1540.55 Q253.805 1536.98 253.805 1529.87 Q253.805 1522.75 251.976 1519.2 Q250.171 1515.64 246.536 1515.64 M246.536 1511.93 Q252.346 1511.93 255.402 1516.54 Q258.481 1521.12 258.481 1529.87 Q258.481 1538.6 255.402 1543.21 Q252.346 1547.79 246.536 1547.79 Q240.726 1547.79 237.647 1543.21 Q234.592 1538.6 234.592 1529.87 Q234.592 1521.12 237.647 1516.54 Q240.726 1511.93 246.536 1511.93 Z\" fill=\"#000000\" fill-rule=\"evenodd\" fill-opacity=\"1\" /><path clip-path=\"url(#clip970)\" d=\"M 0 0 M717.407 1543.18 L725.045 1543.18 L725.045 1516.82 L716.735 1518.49 L716.735 1514.23 L724.999 1512.56 L729.675 1512.56 L729.675 1543.18 L737.314 1543.18 L737.314 1547.12 L717.407 1547.12 L717.407 1543.18 Z\" fill=\"#000000\" fill-rule=\"evenodd\" fill-opacity=\"1\" /><path clip-path=\"url(#clip970)\" d=\"M 0 0 M742.383 1541.24 L747.268 1541.24 L747.268 1547.12 L742.383 1547.12 L742.383 1541.24 Z\" fill=\"#000000\" fill-rule=\"evenodd\" fill-opacity=\"1\" /><path clip-path=\"url(#clip970)\" d=\"M 0 0 M752.383 1512.56 L770.74 1512.56 L770.74 1516.5 L756.666 1516.5 L756.666 1524.97 Q757.684 1524.62 758.703 1524.46 Q759.721 1524.27 760.74 1524.27 Q766.527 1524.27 769.906 1527.44 Q773.286 1530.62 773.286 1536.03 Q773.286 1541.61 769.814 1544.71 Q766.342 1547.79 760.022 1547.79 Q757.846 1547.79 755.578 1547.42 Q753.332 1547.05 750.925 1546.31 L750.925 1541.61 Q753.008 1542.74 755.23 1543.3 Q757.453 1543.86 759.93 1543.86 Q763.934 1543.86 766.272 1541.75 Q768.61 1539.64 768.61 1536.03 Q768.61 1532.42 766.272 1530.31 Q763.934 1528.21 759.93 1528.21 Q758.055 1528.21 756.18 1528.62 Q754.328 1529.04 752.383 1529.92 L752.383 1512.56 Z\" fill=\"#000000\" fill-rule=\"evenodd\" fill-opacity=\"1\" /><path clip-path=\"url(#clip970)\" d=\"M 0 0 M1236.48 1543.18 L1252.8 1543.18 L1252.8 1547.12 L1230.86 1547.12 L1230.86 1543.18 Q1233.52 1540.43 1238.1 1535.8 Q1242.71 1531.15 1243.89 1529.81 Q1246.14 1527.28 1247.02 1525.55 Q1247.92 1523.79 1247.92 1522.1 Q1247.92 1519.34 1245.97 1517.61 Q1244.05 1515.87 1240.95 1515.87 Q1238.75 1515.87 1236.3 1516.63 Q1233.87 1517.4 1231.09 1518.95 L1231.09 1514.23 Q1233.91 1513.09 1236.37 1512.51 Q1238.82 1511.93 1240.86 1511.93 Q1246.23 1511.93 1249.42 1514.62 Q1252.62 1517.31 1252.62 1521.8 Q1252.62 1523.93 1251.81 1525.85 Q1251.02 1527.74 1248.91 1530.34 Q1248.33 1531.01 1245.23 1534.23 Q1242.13 1537.42 1236.48 1543.18 Z\" fill=\"#000000\" fill-rule=\"evenodd\" fill-opacity=\"1\" /><path clip-path=\"url(#clip970)\" d=\"M 0 0 M1257.87 1541.24 L1262.76 1541.24 L1262.76 1547.12 L1257.87 1547.12 L1257.87 1541.24 Z\" fill=\"#000000\" fill-rule=\"evenodd\" fill-opacity=\"1\" /><path clip-path=\"url(#clip970)\" d=\"M 0 0 M1277.83 1515.64 Q1274.21 1515.64 1272.39 1519.2 Q1270.58 1522.75 1270.58 1529.87 Q1270.58 1536.98 1272.39 1540.55 Q1274.21 1544.09 1277.83 1544.09 Q1281.46 1544.09 1283.26 1540.55 Q1285.09 1536.98 1285.09 1529.87 Q1285.09 1522.75 1283.26 1519.2 Q1281.46 1515.64 1277.83 1515.64 M1277.83 1511.93 Q1283.64 1511.93 1286.69 1516.54 Q1289.77 1521.12 1289.77 1529.87 Q1289.77 1538.6 1286.69 1543.21 Q1283.64 1547.79 1277.83 1547.79 Q1272.01 1547.79 1268.94 1543.21 Q1265.88 1538.6 1265.88 1529.87 Q1265.88 1521.12 1268.94 1516.54 Q1272.01 1511.93 1277.83 1511.93 Z\" fill=\"#000000\" fill-rule=\"evenodd\" fill-opacity=\"1\" /><path clip-path=\"url(#clip970)\" d=\"M 0 0 M1752.28 1543.18 L1768.6 1543.18 L1768.6 1547.12 L1746.66 1547.12 L1746.66 1543.18 Q1749.32 1540.43 1753.9 1535.8 Q1758.51 1531.15 1759.69 1529.81 Q1761.94 1527.28 1762.82 1525.55 Q1763.72 1523.79 1763.72 1522.1 Q1763.72 1519.34 1761.77 1517.61 Q1759.85 1515.87 1756.75 1515.87 Q1754.55 1515.87 1752.1 1516.63 Q1749.67 1517.4 1746.89 1518.95 L1746.89 1514.23 Q1749.71 1513.09 1752.17 1512.51 Q1754.62 1511.93 1756.66 1511.93 Q1762.03 1511.93 1765.22 1514.62 Q1768.42 1517.31 1768.42 1521.8 Q1768.42 1523.93 1767.61 1525.85 Q1766.82 1527.74 1764.71 1530.34 Q1764.14 1531.01 1761.03 1534.23 Q1757.93 1537.42 1752.28 1543.18 Z\" fill=\"#000000\" fill-rule=\"evenodd\" fill-opacity=\"1\" /><path clip-path=\"url(#clip970)\" d=\"M 0 0 M1773.67 1541.24 L1778.56 1541.24 L1778.56 1547.12 L1773.67 1547.12 L1773.67 1541.24 Z\" fill=\"#000000\" fill-rule=\"evenodd\" fill-opacity=\"1\" /><path clip-path=\"url(#clip970)\" d=\"M 0 0 M1783.67 1512.56 L1802.03 1512.56 L1802.03 1516.5 L1787.95 1516.5 L1787.95 1524.97 Q1788.97 1524.62 1789.99 1524.46 Q1791.01 1524.27 1792.03 1524.27 Q1797.82 1524.27 1801.2 1527.44 Q1804.57 1530.62 1804.57 1536.03 Q1804.57 1541.61 1801.1 1544.71 Q1797.63 1547.79 1791.31 1547.79 Q1789.14 1547.79 1786.87 1547.42 Q1784.62 1547.05 1782.21 1546.31 L1782.21 1541.61 Q1784.3 1542.74 1786.52 1543.3 Q1788.74 1543.86 1791.22 1543.86 Q1795.22 1543.86 1797.56 1541.75 Q1799.9 1539.64 1799.9 1536.03 Q1799.9 1532.42 1797.56 1530.31 Q1795.22 1528.21 1791.22 1528.21 Q1789.34 1528.21 1787.47 1528.62 Q1785.62 1529.04 1783.67 1529.92 L1783.67 1512.56 Z\" fill=\"#000000\" fill-rule=\"evenodd\" fill-opacity=\"1\" /><path clip-path=\"url(#clip970)\" d=\"M 0 0 M2276.68 1528.49 Q2280.04 1529.2 2281.91 1531.47 Q2283.81 1533.74 2283.81 1537.07 Q2283.81 1542.19 2280.29 1544.99 Q2276.78 1547.79 2270.29 1547.79 Q2268.12 1547.79 2265.8 1547.35 Q2263.51 1546.93 2261.06 1546.08 L2261.06 1541.56 Q2263 1542.7 2265.32 1543.28 Q2267.63 1543.86 2270.16 1543.86 Q2274.55 1543.86 2276.85 1542.12 Q2279.16 1540.38 2279.16 1537.07 Q2279.16 1534.02 2277.01 1532.31 Q2274.88 1530.57 2271.06 1530.57 L2267.03 1530.57 L2267.03 1526.73 L2271.24 1526.73 Q2274.69 1526.73 2276.52 1525.36 Q2278.35 1523.97 2278.35 1521.38 Q2278.35 1518.72 2276.45 1517.31 Q2274.58 1515.87 2271.06 1515.87 Q2269.14 1515.87 2266.94 1516.29 Q2264.74 1516.7 2262.1 1517.58 L2262.1 1513.42 Q2264.76 1512.68 2267.08 1512.31 Q2269.42 1511.93 2271.48 1511.93 Q2276.8 1511.93 2279.9 1514.37 Q2283 1516.77 2283 1520.89 Q2283 1523.76 2281.36 1525.75 Q2279.72 1527.72 2276.68 1528.49 Z\" fill=\"#000000\" fill-rule=\"evenodd\" fill-opacity=\"1\" /><path clip-path=\"url(#clip970)\" d=\"M 0 0 M2288.88 1541.24 L2293.77 1541.24 L2293.77 1547.12 L2288.88 1547.12 L2288.88 1541.24 Z\" fill=\"#000000\" fill-rule=\"evenodd\" fill-opacity=\"1\" /><path clip-path=\"url(#clip970)\" d=\"M 0 0 M2308.84 1515.64 Q2305.23 1515.64 2303.4 1519.2 Q2301.59 1522.75 2301.59 1529.87 Q2301.59 1536.98 2303.4 1540.55 Q2305.23 1544.09 2308.84 1544.09 Q2312.47 1544.09 2314.28 1540.55 Q2316.1 1536.98 2316.1 1529.87 Q2316.1 1522.75 2314.28 1519.2 Q2312.47 1515.64 2308.84 1515.64 M2308.84 1511.93 Q2314.65 1511.93 2317.7 1516.54 Q2320.78 1521.12 2320.78 1529.87 Q2320.78 1538.6 2317.7 1543.21 Q2314.65 1547.79 2308.84 1547.79 Q2303.03 1547.79 2299.95 1543.21 Q2296.89 1538.6 2296.89 1529.87 Q2296.89 1521.12 2299.95 1516.54 Q2303.03 1511.93 2308.84 1511.93 Z\" fill=\"#000000\" fill-rule=\"evenodd\" fill-opacity=\"1\" /><polyline clip-path=\"url(#clip972)\" style=\"stroke:#000000; stroke-width:2; stroke-opacity:0.1; fill:none\" points=\"\n",
       "  167.871,1232.5 2352.76,1232.5 \n",
       "  \"/>\n",
       "<polyline clip-path=\"url(#clip972)\" style=\"stroke:#000000; stroke-width:2; stroke-opacity:0.1; fill:none\" points=\"\n",
       "  167.871,969.419 2352.76,969.419 \n",
       "  \"/>\n",
       "<polyline clip-path=\"url(#clip972)\" style=\"stroke:#000000; stroke-width:2; stroke-opacity:0.1; fill:none\" points=\"\n",
       "  167.871,706.335 2352.76,706.335 \n",
       "  \"/>\n",
       "<polyline clip-path=\"url(#clip972)\" style=\"stroke:#000000; stroke-width:2; stroke-opacity:0.1; fill:none\" points=\"\n",
       "  167.871,443.251 2352.76,443.251 \n",
       "  \"/>\n",
       "<polyline clip-path=\"url(#clip972)\" style=\"stroke:#000000; stroke-width:2; stroke-opacity:0.1; fill:none\" points=\"\n",
       "  167.871,180.167 2352.76,180.167 \n",
       "  \"/>\n",
       "<polyline clip-path=\"url(#clip970)\" style=\"stroke:#000000; stroke-width:4; stroke-opacity:1; fill:none\" points=\"\n",
       "  167.871,1486.45 167.871,47.2441 \n",
       "  \"/>\n",
       "<polyline clip-path=\"url(#clip970)\" style=\"stroke:#000000; stroke-width:4; stroke-opacity:1; fill:none\" points=\"\n",
       "  167.871,1232.5 194.09,1232.5 \n",
       "  \"/>\n",
       "<polyline clip-path=\"url(#clip970)\" style=\"stroke:#000000; stroke-width:4; stroke-opacity:1; fill:none\" points=\"\n",
       "  167.871,969.419 194.09,969.419 \n",
       "  \"/>\n",
       "<polyline clip-path=\"url(#clip970)\" style=\"stroke:#000000; stroke-width:4; stroke-opacity:1; fill:none\" points=\"\n",
       "  167.871,706.335 194.09,706.335 \n",
       "  \"/>\n",
       "<polyline clip-path=\"url(#clip970)\" style=\"stroke:#000000; stroke-width:4; stroke-opacity:1; fill:none\" points=\"\n",
       "  167.871,443.251 194.09,443.251 \n",
       "  \"/>\n",
       "<polyline clip-path=\"url(#clip970)\" style=\"stroke:#000000; stroke-width:4; stroke-opacity:1; fill:none\" points=\"\n",
       "  167.871,180.167 194.09,180.167 \n",
       "  \"/>\n",
       "<path clip-path=\"url(#clip970)\" d=\"M 0 0 M50.9921 1232.95 L80.6679 1232.95 L80.6679 1236.89 L50.9921 1236.89 L50.9921 1232.95 Z\" fill=\"#000000\" fill-rule=\"evenodd\" fill-opacity=\"1\" /><path clip-path=\"url(#clip970)\" d=\"M 0 0 M86.5475 1245.85 L94.1863 1245.85 L94.1863 1219.48 L85.8762 1221.15 L85.8762 1216.89 L94.14 1215.22 L98.8159 1215.22 L98.8159 1245.85 L106.455 1245.85 L106.455 1249.78 L86.5475 1249.78 L86.5475 1245.85 Z\" fill=\"#000000\" fill-rule=\"evenodd\" fill-opacity=\"1\" /><path clip-path=\"url(#clip970)\" d=\"M 0 0 M115.552 1245.85 L131.871 1245.85 L131.871 1249.78 L109.927 1249.78 L109.927 1245.85 Q112.589 1243.09 117.172 1238.46 Q121.779 1233.81 122.959 1232.47 Q125.205 1229.94 126.084 1228.21 Q126.987 1226.45 126.987 1224.76 Q126.987 1222 125.043 1220.27 Q123.121 1218.53 120.02 1218.53 Q117.82 1218.53 115.367 1219.3 Q112.936 1220.06 110.158 1221.61 L110.158 1216.89 Q112.983 1215.75 115.436 1215.18 Q117.89 1214.6 119.927 1214.6 Q125.297 1214.6 128.492 1217.28 Q131.686 1219.97 131.686 1224.46 Q131.686 1226.59 130.876 1228.51 Q130.089 1230.41 127.982 1233 Q127.404 1233.67 124.302 1236.89 Q121.2 1240.08 115.552 1245.85 Z\" fill=\"#000000\" fill-rule=\"evenodd\" fill-opacity=\"1\" /><path clip-path=\"url(#clip970)\" d=\"M 0 0 M75.367 969.87 L105.043 969.87 L105.043 973.805 L75.367 973.805 L75.367 969.87 Z\" fill=\"#000000\" fill-rule=\"evenodd\" fill-opacity=\"1\" /><path clip-path=\"url(#clip970)\" d=\"M 0 0 M110.251 985.981 L110.251 981.722 Q112.01 982.555 113.816 982.995 Q115.621 983.435 117.358 983.435 Q121.987 983.435 124.418 980.333 Q126.871 977.208 127.219 970.865 Q125.876 972.856 123.816 973.921 Q121.756 974.986 119.256 974.986 Q114.07 974.986 111.038 971.861 Q108.029 968.713 108.029 963.273 Q108.029 957.949 111.177 954.731 Q114.325 951.514 119.557 951.514 Q125.552 951.514 128.7 956.12 Q131.871 960.703 131.871 969.453 Q131.871 977.625 127.982 982.509 Q124.117 987.37 117.566 987.37 Q115.807 987.37 114.001 987.023 Q112.196 986.675 110.251 985.981 M119.557 971.328 Q122.705 971.328 124.533 969.175 Q126.385 967.023 126.385 963.273 Q126.385 959.546 124.533 957.393 Q122.705 955.217 119.557 955.217 Q116.408 955.217 114.557 957.393 Q112.728 959.546 112.728 963.273 Q112.728 967.023 114.557 969.175 Q116.408 971.328 119.557 971.328 Z\" fill=\"#000000\" fill-rule=\"evenodd\" fill-opacity=\"1\" /><path clip-path=\"url(#clip970)\" d=\"M 0 0 M75.0198 706.786 L104.696 706.786 L104.696 710.721 L75.0198 710.721 L75.0198 706.786 Z\" fill=\"#000000\" fill-rule=\"evenodd\" fill-opacity=\"1\" /><path clip-path=\"url(#clip970)\" d=\"M 0 0 M120.344 704.471 Q117.195 704.471 115.344 706.624 Q113.515 708.777 113.515 712.527 Q113.515 716.254 115.344 718.43 Q117.195 720.582 120.344 720.582 Q123.492 720.582 125.32 718.43 Q127.172 716.254 127.172 712.527 Q127.172 708.777 125.32 706.624 Q123.492 704.471 120.344 704.471 M129.626 689.819 L129.626 694.078 Q127.867 693.245 126.061 692.805 Q124.279 692.365 122.52 692.365 Q117.89 692.365 115.436 695.49 Q113.006 698.615 112.658 704.934 Q114.024 702.92 116.084 701.856 Q118.145 700.768 120.621 700.768 Q125.83 700.768 128.839 703.939 Q131.871 707.087 131.871 712.527 Q131.871 717.851 128.723 721.068 Q125.575 724.286 120.344 724.286 Q114.348 724.286 111.177 719.703 Q108.006 715.096 108.006 706.37 Q108.006 698.175 111.895 693.314 Q115.783 688.43 122.334 688.43 Q124.094 688.43 125.876 688.777 Q127.682 689.124 129.626 689.819 Z\" fill=\"#000000\" fill-rule=\"evenodd\" fill-opacity=\"1\" /><path clip-path=\"url(#clip970)\" d=\"M 0 0 M75.83 443.702 L105.506 443.702 L105.506 447.638 L75.83 447.638 L75.83 443.702 Z\" fill=\"#000000\" fill-rule=\"evenodd\" fill-opacity=\"1\" /><path clip-path=\"url(#clip970)\" d=\"M 0 0 M124.742 441.897 Q128.098 442.614 129.973 444.883 Q131.871 447.151 131.871 450.485 Q131.871 455.601 128.353 458.401 Q124.834 461.202 118.353 461.202 Q116.177 461.202 113.862 460.763 Q111.571 460.346 109.117 459.489 L109.117 454.976 Q111.061 456.11 113.376 456.688 Q115.691 457.267 118.214 457.267 Q122.612 457.267 124.904 455.531 Q127.219 453.795 127.219 450.485 Q127.219 447.429 125.066 445.716 Q122.936 443.98 119.117 443.98 L115.089 443.98 L115.089 440.138 L119.302 440.138 Q122.751 440.138 124.58 438.772 Q126.408 437.383 126.408 434.79 Q126.408 432.128 124.51 430.716 Q122.635 429.281 119.117 429.281 Q117.195 429.281 114.996 429.698 Q112.797 430.115 110.158 430.994 L110.158 426.828 Q112.82 426.087 115.135 425.716 Q117.473 425.346 119.533 425.346 Q124.857 425.346 127.959 427.777 Q131.061 430.184 131.061 434.304 Q131.061 437.175 129.418 439.165 Q127.774 441.133 124.742 441.897 Z\" fill=\"#000000\" fill-rule=\"evenodd\" fill-opacity=\"1\" /><path clip-path=\"url(#clip970)\" d=\"M 0 0 M119.927 165.966 Q116.316 165.966 114.487 169.531 Q112.682 173.072 112.682 180.202 Q112.682 187.308 114.487 190.873 Q116.316 194.415 119.927 194.415 Q123.561 194.415 125.367 190.873 Q127.195 187.308 127.195 180.202 Q127.195 173.072 125.367 169.531 Q123.561 165.966 119.927 165.966 M119.927 162.262 Q125.737 162.262 128.793 166.869 Q131.871 171.452 131.871 180.202 Q131.871 188.929 128.793 193.535 Q125.737 198.119 119.927 198.119 Q114.117 198.119 111.038 193.535 Q107.983 188.929 107.983 180.202 Q107.983 171.452 111.038 166.869 Q114.117 162.262 119.927 162.262 Z\" fill=\"#000000\" fill-rule=\"evenodd\" fill-opacity=\"1\" /><polyline clip-path=\"url(#clip972)\" style=\"stroke:#009af9; stroke-width:4; stroke-opacity:1; fill:none\" points=\"\n",
       "  229.708,87.9763 1260.31,235.563 2290.92,1445.72 \n",
       "  \"/>\n",
       "<circle clip-path=\"url(#clip972)\" cx=\"229.708\" cy=\"87.9763\" r=\"14\" fill=\"#009af9\" fill-rule=\"evenodd\" fill-opacity=\"1\" stroke=\"#000000\" stroke-opacity=\"1\" stroke-width=\"3.2\"/>\n",
       "<circle clip-path=\"url(#clip972)\" cx=\"1260.31\" cy=\"235.563\" r=\"14\" fill=\"#009af9\" fill-rule=\"evenodd\" fill-opacity=\"1\" stroke=\"#000000\" stroke-opacity=\"1\" stroke-width=\"3.2\"/>\n",
       "<circle clip-path=\"url(#clip972)\" cx=\"2290.92\" cy=\"1445.72\" r=\"14\" fill=\"#009af9\" fill-rule=\"evenodd\" fill-opacity=\"1\" stroke=\"#000000\" stroke-opacity=\"1\" stroke-width=\"3.2\"/>\n",
       "<path clip-path=\"url(#clip970)\" d=\"\n",
       "M1986.14 216.178 L2279.93 216.178 L2279.93 95.2176 L1986.14 95.2176  Z\n",
       "  \" fill=\"#ffffff\" fill-rule=\"evenodd\" fill-opacity=\"1\"/>\n",
       "<polyline clip-path=\"url(#clip970)\" style=\"stroke:#000000; stroke-width:4; stroke-opacity:1; fill:none\" points=\"\n",
       "  1986.14,216.178 2279.93,216.178 2279.93,95.2176 1986.14,95.2176 1986.14,216.178 \n",
       "  \"/>\n",
       "<polyline clip-path=\"url(#clip970)\" style=\"stroke:#009af9; stroke-width:4; stroke-opacity:1; fill:none\" points=\"\n",
       "  2010.42,155.698 2156.08,155.698 \n",
       "  \"/>\n",
       "<circle clip-path=\"url(#clip970)\" cx=\"2083.25\" cy=\"155.698\" r=\"23\" fill=\"#009af9\" fill-rule=\"evenodd\" fill-opacity=\"1\" stroke=\"#000000\" stroke-opacity=\"1\" stroke-width=\"5.12\"/>\n",
       "<path clip-path=\"url(#clip970)\" d=\"M 0 0 M2194.2 175.385 Q2192.39 180.015 2190.68 181.427 Q2188.97 182.839 2186.1 182.839 L2182.69 182.839 L2182.69 179.274 L2185.19 179.274 Q2186.95 179.274 2187.92 178.44 Q2188.9 177.607 2190.08 174.505 L2190.84 172.561 L2180.36 147.052 L2184.87 147.052 L2192.97 167.329 L2201.07 147.052 L2205.59 147.052 L2194.2 175.385 Z\" fill=\"#000000\" fill-rule=\"evenodd\" fill-opacity=\"1\" /><path clip-path=\"url(#clip970)\" d=\"M 0 0 M2211.47 169.042 L2219.1 169.042 L2219.1 142.677 L2210.79 144.343 L2210.79 140.084 L2219.06 138.418 L2223.73 138.418 L2223.73 169.042 L2231.37 169.042 L2231.37 172.978 L2211.47 172.978 L2211.47 169.042 Z\" fill=\"#000000\" fill-rule=\"evenodd\" fill-opacity=\"1\" /></svg>\n"
      ]
     },
     "execution_count": 42,
     "metadata": {},
     "output_type": "execute_result"
    }
   ],
   "source": [
    "A = [1 -4.7 -1\n",
    "    -4.7 -0.1 -2\n",
    "    -1 -2 5]\n",
    "A = A - 10*I\n",
    "println(\"Wartości własne: $(eigen(A))\")\n",
    "x = [1;1;1]\n",
    "b = A*x\n",
    "println(\"b = $b\")\n",
    "x,i,R = mycg(A, b, [-1.5;1.75;-2])\n",
    "println(A*x-b)\n",
    "println(\"x = $x w $i iteracjach. Wartość residuum |Ax-b|= $(norm(A*x-b))\")\n",
    "print(R)\n",
    "plot(log10.(R),markershape=:circle)"
   ]
  },
  {
   "cell_type": "code",
   "execution_count": 43,
   "id": "311f955a",
   "metadata": {},
   "outputs": [
    {
     "data": {
      "text/plain": [
       "-39.5"
      ]
     },
     "execution_count": 43,
     "metadata": {},
     "output_type": "execute_result"
    }
   ],
   "source": [
    "x = [-1;-1;-1]\n",
    "x'*A*x"
   ]
  },
  {
   "cell_type": "code",
   "execution_count": 44,
   "id": "5c6193a5",
   "metadata": {},
   "outputs": [
    {
     "name": "stdout",
     "output_type": "stream",
     "text": [
      "[-20.0 -4.7 -10.0; -4.7 -26.2 -2.0; -10.0 -2.0 -10.0]"
     ]
    },
    {
     "data": {
      "text/plain": [
       "Eigen{Float64,Float64,Array{Float64,2},Array{Float64,1}}\n",
       "values:\n",
       "3-element Array{Float64,1}:\n",
       " -31.250530010020462\n",
       " -21.15765926341347\n",
       "  -3.791810726565998\n",
       "vectors:\n",
       "3×3 Array{Float64,2}:\n",
       " 0.610602   0.586357  -0.532307\n",
       " 0.70841   -0.704875   0.0361603\n",
       " 0.354007   0.399171   0.845779"
      ]
     },
     "execution_count": 44,
     "metadata": {},
     "output_type": "execute_result"
    }
   ],
   "source": [
    "A = [10 -4.7 -10\n",
    "    -4.7 3.8 -2\n",
    "    -10 -2 20]\n",
    "A = A -30*I\n",
    "print(A)\n",
    "eigen(A)"
   ]
  },
  {
   "cell_type": "code",
   "execution_count": 45,
   "id": "451289c3",
   "metadata": {},
   "outputs": [
    {
     "name": "stdout",
     "output_type": "stream",
     "text": [
      "b = [-4.7, -6.8, 2.0]\n",
      "[-7.725, 10.875, -12.0]\n",
      "[3.0249999999999995, -17.675, 14.0]\n",
      "r0 = [3.0249999999999995, -17.675, 14.0]\n",
      "r0^T*r0 = 517.5562500000001\n",
      "A*r0 = [72.09750000000001, -40.449999999999996, 102.325]\n",
      "r0^TA*r0 = 2365.5986875\n",
      "r0^T*r0/r0^TA*r0 = 0.21878446785365835\n",
      "x1 = [-0.8381769847426837, -2.1170154693134116, 1.0629825499512169]\n",
      "A*p0 = [72.09750000000001, -40.449999999999996, 102.325]\n",
      "r1 = [-12.748813171079135, -8.82516827531952, -8.38712067312559]\n",
      "r1'*r1=310.7596255443576\n",
      "r0'*r0=517.5562500000001\n",
      "beta=0.6004364270441281\n",
      "p1=[-10.932492979270648, -19.437882123324485, 0.018989305492203457]\n",
      "r1'*r1 = 310.7596255443576\n",
      "A*p1=[80.40656369486224, 53.28852660392009, 49.90320375338064]\n",
      "p1'*A*p1=-1913.9126645528866\n",
      "a1=-0.16236875971399398\n",
      "x2=[0.9369183408834385, 1.0390893425176007, 1.0598992799706177]\n",
      "b-Ax2 = [0.30670084891990257, -0.1727763036548433, -0.28439937393444925]\n",
      "norm(b-Ax2) = 0.4525484125782856\n"
     ]
    }
   ],
   "source": [
    "A = [1 -4.7 -1\n",
    "    -4.7 -0.1 -2\n",
    "    -1 -2 5]\n",
    "x = [1;1;1]\n",
    "b = A*x\n",
    "println(\"b = $b\")\n",
    "x = [-1.5;1.75;-2]\n",
    "println(A*x)\n",
    "println(b -A*x)\n",
    "r0=b -A*x\n",
    "p0=r0\n",
    "x0=x\n",
    "println(\"r0 = $r0\")\n",
    "println(\"r0^T*r0 = $(r0'*r0)\")\n",
    "println(\"A*r0 = $(A*r0)\")\n",
    "println(\"r0^TA*r0 = $(r0'*A*r0)\")\n",
    "println(\"r0^T*r0/r0^TA*r0 = $(r0'*r0/(r0'*A*r0))\")\n",
    "a0 = r0'*r0/(r0'*A*r0)\n",
    "x1 = x0 + a0*p0\n",
    "println(\"x1 = $x1\")\n",
    "println(\"A*p0 = $(A*p0)\")\n",
    "r1 = r0 - a0*A*p0\n",
    "println(\"r1 = $r1\")\n",
    "println(\"r1'*r1=$(r1'*r1)\")\n",
    "println(\"r0'*r0=$(r0'*r0)\")\n",
    "beta=r1'*r1 / (r0'*r0)\n",
    "println(\"beta=$(r1'*r1 / (r0'*r0))\")\n",
    "println(\"p1=$(r1 + beta*p0)\")\n",
    "p1 = r1 + beta*p0\n",
    "println(\"r1'*r1 = $(r1'*r1)\")\n",
    "println(\"A*p1=$(A*p1)\")\n",
    "println(\"p1'*A*p1=$(p1'*A*p1)\")\n",
    "a1 = r1'*r1 / (p1'*A*p1)\n",
    "println(\"a1=$a1\")\n",
    "x2 = x1 + a1*p1\n",
    "println(\"x2=$x2\")\n",
    "println(\"b-Ax2 = $(b-A*x2)\")\n",
    "println(\"norm(b-Ax2) = $(norm(b-A*x2))\")"
   ]
  },
  {
   "cell_type": "code",
   "execution_count": 46,
   "id": "61d0912a",
   "metadata": {},
   "outputs": [
    {
     "name": "stdout",
     "output_type": "stream",
     "text": [
      "ak = 0.21878446785365835\n",
      "pk = [-10.932492979270648, -19.437882123324485, 0.018989305492203457]\n",
      "ak = -0.16236875971399398\n",
      "pk = [0.2994960028051781, -0.18558646047453753, -0.284386859403302]\n",
      "ak = 0.21062604684442257\n",
      "pk = [-4.996003610813005e-16, -3.1363800445660795e-15, 1.887379141862747e-15]\n"
     ]
    },
    {
     "data": {
      "text/plain": [
       "([0.9999999999999992, 1.0000000000000002, 0.9999999999999997], 3, [17.628375578718465, 0.45254841257828354, 3.694412041162093e-15])"
      ]
     },
     "execution_count": 46,
     "metadata": {},
     "output_type": "execute_result"
    }
   ],
   "source": [
    "\n",
    "A = [1 -4.7 -1\n",
    "    -4.7 -0.1 -2\n",
    "    -1 -2 5]\n",
    "x = [1;1;1]\n",
    "b = A*x\n",
    "\n",
    "x = [-1.5;1.75;-2]\n",
    "x,i,R = mycg(A,b,x)"
   ]
  }
 ],
 "metadata": {
  "kernelspec": {
   "display_name": "Julia 1.5.4",
   "language": "julia",
   "name": "julia-1.5"
  },
  "language_info": {
   "file_extension": ".jl",
   "mimetype": "application/julia",
   "name": "julia",
   "version": "1.5.4"
  }
 },
 "nbformat": 4,
 "nbformat_minor": 5
}
