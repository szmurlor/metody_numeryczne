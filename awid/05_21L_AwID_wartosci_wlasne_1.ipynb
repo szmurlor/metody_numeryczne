{
 "cells": [
  {
   "cell_type": "markdown",
   "id": "square-enforcement",
   "metadata": {},
   "source": [
    "# Wykład Algorytmy w Inżynierii Danych 2021L\n",
    "## Temat: Wartości własne - część 1\n",
    "\n",
    "Opracownie: Robert Szmurło"
   ]
  },
  {
   "cell_type": "markdown",
   "id": "useful-savannah",
   "metadata": {},
   "source": [
    "Przykładowa deklaracja macierzy $2 \\times 2$"
   ]
  },
  {
   "cell_type": "code",
   "execution_count": 1,
   "id": "national-documentary",
   "metadata": {},
   "outputs": [
    {
     "data": {
      "text/plain": [
       "2×2 Array{Int64,2}:\n",
       " 1  2\n",
       " 4  5"
      ]
     },
     "execution_count": 1,
     "metadata": {},
     "output_type": "execute_result"
    }
   ],
   "source": [
    "A = [1 2;4 5]"
   ]
  },
  {
   "cell_type": "markdown",
   "id": "native-breath",
   "metadata": {},
   "source": [
    "Chcemy używać funkcji z bibliotek dotyczących algebry liniowej (`eigen`) oraz statystyki (`cov`)"
   ]
  },
  {
   "cell_type": "code",
   "execution_count": 2,
   "id": "sixth-renewal",
   "metadata": {},
   "outputs": [],
   "source": [
    "using LinearAlgebra\n",
    "using Statistics"
   ]
  },
  {
   "cell_type": "markdown",
   "id": "analyzed-connectivity",
   "metadata": {},
   "source": [
    "Sprawdzamy jak działa wbudowana funkcja do wyznaczania wartości własnych."
   ]
  },
  {
   "cell_type": "code",
   "execution_count": 4,
   "id": "coupled-tactics",
   "metadata": {},
   "outputs": [
    {
     "data": {
      "text/plain": [
       "Eigen{Float64,Float64,Array{Float64,2},Array{Float64,1}}\n",
       "values:\n",
       "2-element Array{Float64,1}:\n",
       " -0.4641016151377544\n",
       "  6.464101615137754\n",
       "vectors:\n",
       "2×2 Array{Float64,2}:\n",
       " -0.806898  -0.343724\n",
       "  0.59069   -0.939071"
      ]
     },
     "execution_count": 4,
     "metadata": {},
     "output_type": "execute_result"
    }
   ],
   "source": [
    "e,v = eigen(A)"
   ]
  },
  {
   "cell_type": "markdown",
   "id": "demonstrated-savage",
   "metadata": {},
   "source": [
    "Sprawdzamy jak znaleźć maksymalną wartość co do modułu: \n",
    "\n",
    "$$max( |e_i| ) \\text{  dla  } i=1,2,3,\\ldots,n$$ "
   ]
  },
  {
   "cell_type": "code",
   "execution_count": 5,
   "id": "split-formation",
   "metadata": {},
   "outputs": [
    {
     "data": {
      "text/plain": [
       "6.464101615137754"
      ]
     },
     "execution_count": 5,
     "metadata": {},
     "output_type": "execute_result"
    }
   ],
   "source": [
    "maximum(abs.(e)) # promień spektralny"
   ]
  },
  {
   "cell_type": "markdown",
   "id": "organic-moldova",
   "metadata": {},
   "source": [
    "Liczymy przykładową wartość wektorów kierunkowych PCA i rzutujemy na nie wektor danych wejściowych. Zazwyczaj wybieramy tylko te wektory włąsne, które są związane z najwiękzymi co do modułu wartościami własnymi.\n",
    "\n",
    "$$\\Sigma ={\\begin{bmatrix}\\sigma _{1}^{2}&\\sigma _{12}&\\cdots &\\sigma _{1n}\\\\\\sigma _{21}&\\sigma _{2}^{2}&\\cdots &\\sigma _{2n}\\\\\\vdots &\\cdots &\\ddots &\\vdots \\\\\\sigma _{n1}&\\sigma _{n2}&\\cdots &\\sigma _{n}^{2}\\end{bmatrix}}$$\n",
    "\n",
    "gdzie:\n",
    "\n",
    "$\\sigma _{i}^{2}=D^{2}X_{i}$ - wariancja zmiennej $X_i$,  \n",
    "$\\sigma _{ij}=\\operatorname {cov} (X_{i},X_{j})$ - kowariancja między zmiennymi $X_i$ i $X_j$\n",
    "\n",
    "Obliczone wektory własne reprezentują nam przestrzeń rzutowania PCA. Liczymy zatem: \n",
    "\n",
    "$$P=\\text{vectors}^T \\cdot X^T$$"
   ]
  },
  {
   "cell_type": "code",
   "execution_count": 6,
   "id": "least-headquarters",
   "metadata": {},
   "outputs": [
    {
     "name": "stdout",
     "output_type": "stream",
     "text": [
      "Wartości własne: [0.0, 8.0]\n",
      "Wektory własne: [-0.7071067811865475 0.7071067811865475; 0.7071067811865475 0.7071067811865475]\n"
     ]
    },
    {
     "data": {
      "text/plain": [
       "3×2 Adjoint{Float64,Array{Float64,2}}:\n",
       " 0.0  -2.82843\n",
       " 0.0   0.0\n",
       " 0.0   2.82843"
      ]
     },
     "execution_count": 6,
     "metadata": {},
     "output_type": "execute_result"
    }
   ],
   "source": [
    "X = [-2 -2; \n",
    "      0 0; \n",
    "      2 2];\n",
    "C = cov(X)\n",
    "values, vectors = eigen(C)\n",
    "println(\"Wartości własne: \",values)\n",
    "println(\"Wektory własne: \", vectors)\n",
    "P = vectors' * X' # tutaj rzutujemy\n",
    "P'"
   ]
  },
  {
   "cell_type": "markdown",
   "id": "precious-batman",
   "metadata": {},
   "source": [
    "Jak obliczać wartości własne za pomocą wielomianu charakterystycznego używająć wbudowanych funkcji do znajdowania pierwiastków. Samodzielnie tylko napiszemy funkcję obliczającą współczynniki wielomianu charakterystycznego korzystając z metody Faddeeva-Laverriera:\n",
    "\n",
    "$$(-1)^n [\\lambda^n - p_1 \\lambda^{n-1} - p_2 \\lambda^{n-2} - \\ldots - p_{n-1} \\lambda - p_n] = 0$$\n",
    "\n",
    "$$\\begin{align*}\n",
    "[P_1] &= [A], p_1=trace [P_1]; \\\\\n",
    "[P_2] &= [A]([P_1] - p_1[I]), p_2=\\frac{1}{2}trace[P_2]; \\\\\n",
    "[P_3] &= [A]([P_2] - p_2[I]), p_3=\\frac{1}{3}trace[P_3]; \\\\\n",
    "&\\vdots \\\\\n",
    "[P_i] &= [A]([P_{i-1}] - p_{i-1}[I]), p_i=\\frac{1}{i}trace[P_i]; \\\\\n",
    "&\\vdots \\\\\n",
    "[P_n] &= [A]([P_{n-1}] - p_{n-1}[I]), p_n=\\frac{1}{n}trace[P_n];\n",
    "\\end{align*}$$\n"
   ]
  },
  {
   "cell_type": "code",
   "execution_count": null,
   "id": "indie-refund",
   "metadata": {},
   "outputs": [],
   "source": [
    "# import Pkg; Pkg.add(\"Polynomials\")"
   ]
  },
  {
   "cell_type": "code",
   "execution_count": 45,
   "id": "democratic-mixer",
   "metadata": {
    "scrolled": true
   },
   "outputs": [],
   "source": [
    "using Polynomials"
   ]
  },
  {
   "cell_type": "code",
   "execution_count": 46,
   "id": "dental-retail",
   "metadata": {},
   "outputs": [],
   "source": [
    "A = [12 6 -6\n",
    "    6 16 2\n",
    "    -6 2 16];"
   ]
  },
  {
   "cell_type": "code",
   "execution_count": 47,
   "id": "verbal-jenny",
   "metadata": {},
   "outputs": [
    {
     "data": {
      "text/plain": [
       "3"
      ]
     },
     "execution_count": 47,
     "metadata": {},
     "output_type": "execute_result"
    }
   ],
   "source": [
    "n = size(A,1) # tylko sprawdzamy czy w Julia size działa tak samo jak w MATLABie :-)"
   ]
  },
  {
   "cell_type": "code",
   "execution_count": 48,
   "id": "defined-empire",
   "metadata": {},
   "outputs": [
    {
     "name": "stdout",
     "output_type": "stream",
     "text": [
      "[1728, -564, 44, -1]\n",
      "1728 - 564*x + 44*x^2 - x^3\n",
      "[4.455996254682469, 18.000000000000064, 21.54400374531746]\n"
     ]
    },
    {
     "data": {
      "text/plain": [
       "Eigen{Float64,Float64,Array{Float64,2},Array{Float64,1}}\n",
       "values:\n",
       "3-element Array{Float64,1}:\n",
       "  4.455996254682473\n",
       " 18.000000000000004\n",
       " 21.544003745317532\n",
       "vectors:\n",
       "3×3 Array{Float64,2}:\n",
       "  0.747342  3.33067e-16   0.664439\n",
       " -0.469829  0.707107      0.528451\n",
       "  0.469829  0.707107     -0.528451"
      ]
     },
     "execution_count": 48,
     "metadata": {},
     "output_type": "execute_result"
    }
   ],
   "source": [
    "n = size(A,1);\n",
    "\n",
    "# metoda Fadeeva-Laveriera\n",
    "p = [(-1)^n];\n",
    "i = 1;\n",
    "P = A;\n",
    "for i =1:n\n",
    "    push!(p, 1/i*tr(P) );\n",
    "    P = A*(P - p[i+1]*I);\n",
    "end\n",
    "\n",
    "# odwracamy współczynniki, ponieważ Polynomials w Julia \n",
    "# pierwszy element wektora traktują jako wartośc przy \n",
    "# wykładniku potęgi równym 0\n",
    "coefficients = p[end:-1:1]\n",
    "println(coefficients)\n",
    "\n",
    "poly=Polynomial(coefficients)\n",
    "println(poly)\n",
    "\n",
    "# liczymy pierwiastki (zera) wielomianu charakterytycznego - czyli wartości własne\n",
    "root = roots(poly)\n",
    "println(root)\n",
    "\n",
    "# sprawdźmy czy eigen zwróci to samo\n",
    "eigen(A)"
   ]
  },
  {
   "cell_type": "markdown",
   "id": "jewish-antibody",
   "metadata": {},
   "source": [
    "Trochę brakuje w Julia funkcji `eye(n)` z MATLABA. Niby Można używać `I`, ale on jest niestety niemutowalny i tworzenie macierzy permutacji (lub obrotu jak w metodzie Jakobiego, czy też Givensa) nie jest zbyt wygodne. \n",
    "\n",
    "Zróbmy ją sobie zatem sami."
   ]
  },
  {
   "cell_type": "code",
   "execution_count": 38,
   "id": "tested-amazon",
   "metadata": {},
   "outputs": [
    {
     "data": {
      "text/plain": [
       "eye (generic function with 1 method)"
      ]
     },
     "execution_count": 38,
     "metadata": {},
     "output_type": "execute_result"
    }
   ],
   "source": [
    "function eye(n)\n",
    "    return Matrix{Float64}(I,n,n)\n",
    "end"
   ]
  },
  {
   "cell_type": "markdown",
   "id": "pursuant-dependence",
   "metadata": {},
   "source": [
    "Funkcja zwracająca indeksy (wspólrzędne indeksowe) maksymalnych co do modułu elementów pozadiagonalnych. "
   ]
  },
  {
   "cell_type": "code",
   "execution_count": 49,
   "id": "russian-waters",
   "metadata": {},
   "outputs": [
    {
     "data": {
      "text/plain": [
       "maxst (generic function with 1 method)"
      ]
     },
     "execution_count": 49,
     "metadata": {},
     "output_type": "execute_result"
    }
   ],
   "source": [
    "function maxst(A)\n",
    "    s = 1;\n",
    "    t = 2;\n",
    "    n = size(A,1);\n",
    "    \n",
    "    for c = 2:n\n",
    "        for r = 1:c-1\n",
    "            if abs(A[r,c]) > abs(A[s,t])\n",
    "                s = r;\n",
    "                t = c;\n",
    "            end\n",
    "        end\n",
    "    end\n",
    "    return s,t\n",
    "end"
   ]
  },
  {
   "cell_type": "markdown",
   "id": "purple-philippines",
   "metadata": {},
   "source": [
    "Upewniamy sie jak działa w Julia funkcja `signum`."
   ]
  },
  {
   "cell_type": "code",
   "execution_count": 50,
   "id": "sharing-designation",
   "metadata": {},
   "outputs": [
    {
     "data": {
      "text/plain": [
       "-1"
      ]
     },
     "execution_count": 50,
     "metadata": {},
     "output_type": "execute_result"
    }
   ],
   "source": [
    "sign(-5)"
   ]
  },
  {
   "cell_type": "markdown",
   "id": "regulation-postage",
   "metadata": {},
   "source": [
    "Naiwna implementacja metody diagonalizacji macierzy za pomocą obrotów Jakobiego."
   ]
  },
  {
   "cell_type": "code",
   "execution_count": 52,
   "id": "sound-weather",
   "metadata": {},
   "outputs": [
    {
     "data": {
      "text/plain": [
       "myjacobi_eig (generic function with 1 method)"
      ]
     },
     "execution_count": 52,
     "metadata": {},
     "output_type": "execute_result"
    }
   ],
   "source": [
    "function myjacobi_eig(A)\n",
    "    n = size(A,1);    \n",
    "    for i = 1:15\n",
    "        # find s,t\n",
    "        s,t = maxst(A);\n",
    "        d = sqrt((A[s,s] - A[t,t])^2 + 4*A[s,t]^2);\n",
    "        sin2t = 2*A[s,t]/d;\n",
    "        cos2t = (A[s,s] - A[t,t]) / d;\n",
    "        dt = sqrt(2*(1+cos2t));\n",
    "        sint = abs(sin2t) / dt;\n",
    "        cost = abs((1+ cos2t) / dt);\n",
    "        cost = sign(A[s,t]) * cost;\n",
    "        \n",
    "        R = eye(n);\n",
    "        R[s,s] = cost;\n",
    "        R[t,t] = cost;\n",
    "        R[s,t] = -sint;\n",
    "        R[t,s] = sint;\n",
    "        A = R'*A*R;\n",
    "    end\n",
    "    return A\n",
    "end"
   ]
  },
  {
   "cell_type": "markdown",
   "id": "artificial-screw",
   "metadata": {},
   "source": [
    "Testujemy kod obrotów jakobiego pamiętając, że macierz musi być symetryczna!"
   ]
  },
  {
   "cell_type": "code",
   "execution_count": 55,
   "id": "driven-client",
   "metadata": {},
   "outputs": [
    {
     "data": {
      "text/plain": [
       "4×4 Array{Float64,2}:\n",
       " 110.475   0.0     0.0        0.0\n",
       "   0.0    20.3274  0.0        0.0\n",
       "   0.0     0.0     7.49633    0.0\n",
       "   0.0     0.0     0.0      -90.2988"
      ]
     },
     "metadata": {},
     "output_type": "display_data"
    },
    {
     "name": "stdout",
     "output_type": "stream",
     "text": [
      "Macierz diagonalna:\n",
      "Wartośći własne z eigen: [-90.2987517379167, 7.496326411004787, 20.32736609356303, 110.47505923334917]\n"
     ]
    }
   ],
   "source": [
    "A = [12 6 -6 1\n",
    "    6 16 2 100\n",
    "    -6 2 16 1\n",
    "    1 100 1 4];\n",
    "maxst(A);\n",
    "AJ = myjacobi_eig(A);\n",
    "\n",
    "# tylko obcinamy prawie zera, żeby było lepiej widać\n",
    "AJ[abs.(AJ) .< 1e-10] .= 0.0;\n",
    "println(\"Macierz diagonalna:\")\n",
    "display(AJ)\n",
    "e,v = eigen(A);\n",
    "println(\"Wartośći własne z eigen: \", e)\n"
   ]
  },
  {
   "cell_type": "markdown",
   "id": "above-documentation",
   "metadata": {},
   "source": [
    "Sprawdzamy jak w Julia działa przypisywanie wartości do elementów warunkowo."
   ]
  },
  {
   "cell_type": "code",
   "execution_count": 7,
   "id": "hydraulic-forestry",
   "metadata": {},
   "outputs": [
    {
     "data": {
      "text/plain": [
       "2×2 Array{Int64,2}:\n",
       "   1    2\n",
       " 100  100"
      ]
     },
     "execution_count": 7,
     "metadata": {},
     "output_type": "execute_result"
    }
   ],
   "source": [
    "A[ A .> 2 ] .= 100\n",
    "A"
   ]
  },
  {
   "cell_type": "code",
   "execution_count": 8,
   "id": "packed-shopper",
   "metadata": {},
   "outputs": [
    {
     "data": {
      "text/plain": [
       "3×3 Array{Int64,2}:\n",
       " 1  4  1\n",
       " 4  3  2\n",
       " 1  2  5"
      ]
     },
     "execution_count": 8,
     "metadata": {},
     "output_type": "execute_result"
    }
   ],
   "source": [
    "A = [1 4 1;\n",
    "     4 3 2;\n",
    "     1 2 5]"
   ]
  },
  {
   "cell_type": "code",
   "execution_count": 15,
   "id": "contemporary-anger",
   "metadata": {},
   "outputs": [
    {
     "data": {
      "text/plain": [
       "3-element Array{Int64,1}:\n",
       " 1\n",
       " 1\n",
       " 1"
      ]
     },
     "execution_count": 15,
     "metadata": {},
     "output_type": "execute_result"
    }
   ],
   "source": [
    "x = [1;1;1;]"
   ]
  },
  {
   "cell_type": "code",
   "execution_count": 19,
   "id": "received-marshall",
   "metadata": {},
   "outputs": [
    {
     "name": "stdout",
     "output_type": "stream",
     "text": [
      "[1, 1, 1]\n",
      "[0.4636576533697553, 0.638242619004902, 0.6145469386120278]\n"
     ]
    },
    {
     "data": {
      "text/plain": [
       "7.831586613814753"
      ]
     },
     "execution_count": 19,
     "metadata": {},
     "output_type": "execute_result"
    }
   ],
   "source": [
    "x = [1;1;1;]\n",
    "println(x)\n",
    "for i = 1:20\n",
    "    x = A*x\n",
    "    x = x / norm(x)\n",
    "end\n",
    "println(x)\n",
    "lambda = x'*A*x / (x'*x)"
   ]
  },
  {
   "cell_type": "code",
   "execution_count": 12,
   "id": "little-gasoline",
   "metadata": {
    "scrolled": true
   },
   "outputs": [
    {
     "data": {
      "text/plain": [
       "Eigen{Float64,Float64,Array{Float64,2},Array{Float64,1}}\n",
       "values:\n",
       "3-element Array{Float64,1}:\n",
       " -2.1529137088817887\n",
       "  3.321327095067036\n",
       "  7.831586613814752\n",
       "vectors:\n",
       "3×3 Array{Float64,2}:\n",
       "  0.77535   -0.428782  -0.463658\n",
       " -0.627948  -0.445339  -0.638243\n",
       "  0.067182   0.786014  -0.614547"
      ]
     },
     "execution_count": 12,
     "metadata": {},
     "output_type": "execute_result"
    }
   ],
   "source": [
    "e,v = eigen(A)"
   ]
  },
  {
   "cell_type": "code",
   "execution_count": 24,
   "id": "northern-world",
   "metadata": {},
   "outputs": [
    {
     "data": {
      "text/plain": [
       "3×3 Array{Float64,2}:\n",
       " -0.683622   1.68243   -1.23153\n",
       "  1.68243   -0.190225  -1.07178\n",
       " -1.23153   -1.07178    2.04226"
      ]
     },
     "execution_count": 24,
     "metadata": {},
     "output_type": "execute_result"
    }
   ],
   "source": [
    "An = A - lambda*x*x' # deflacja"
   ]
  },
  {
   "cell_type": "code",
   "execution_count": 26,
   "id": "apart-witch",
   "metadata": {},
   "outputs": [
    {
     "name": "stdout",
     "output_type": "stream",
     "text": [
      "[1, 1, 1]\n",
      "[0.42878211140134165, 0.4453394816284052, -0.7860144063852461]\n"
     ]
    },
    {
     "data": {
      "text/plain": [
       "3.3213270950670366"
      ]
     },
     "execution_count": 26,
     "metadata": {},
     "output_type": "execute_result"
    }
   ],
   "source": [
    "x = [1;1;1;]\n",
    "println(x)\n",
    "for i = 1:50\n",
    "    x = An*x\n",
    "    x = x / norm(x)\n",
    "end\n",
    "println(x)\n",
    "lambda = x'*An*x / (x'*x)"
   ]
  },
  {
   "cell_type": "code",
   "execution_count": 30,
   "id": "cleared-dominant",
   "metadata": {},
   "outputs": [
    {
     "name": "stdout",
     "output_type": "stream",
     "text": [
      "[1 4 1; 4 3 2; 1 2 5]\n",
      "[1, 1, "
     ]
    },
    {
     "data": {
      "text/plain": [
       "3×3 Array{Float64,2}:\n",
       " 1.0   0.0       0.0\n",
       " 0.25  1.0       0.0\n",
       " 0.25  0.384615  1.0"
      ]
     },
     "metadata": {},
     "output_type": "display_data"
    },
    {
     "data": {
      "text/plain": [
       "3×3 Array{Float64,2}:\n",
       " 4.0  3.0   2.0\n",
       " 0.0  3.25  0.5\n",
       " 0.0  0.0   4.30769"
      ]
     },
     "metadata": {},
     "output_type": "display_data"
    },
    {
     "name": "stdout",
     "output_type": "stream",
     "text": [
      "1]\n",
      "[0.7753499088552043, -0.6279483285839154, 0.0671819578971419]\n"
     ]
    },
    {
     "data": {
      "text/plain": [
       "-2.152913708881789"
      ]
     },
     "execution_count": 30,
     "metadata": {},
     "output_type": "execute_result"
    }
   ],
   "source": [
    "x = [1,1,1]\n",
    "println(A)\n",
    "println(x)\n",
    "L,U = lu(A)\n",
    "display(L)\n",
    "display(U)\n",
    "for i = 1:50\n",
    "    x = A \\ x # rozwiazuje uklad rownan!\n",
    "    x = x / norm(x)\n",
    "end\n",
    "println(x)\n",
    "lambda = x'*An*x / (x'*x)\n",
    "\n"
   ]
  },
  {
   "cell_type": "code",
   "execution_count": 32,
   "id": "second-weapon",
   "metadata": {},
   "outputs": [
    {
     "data": {
      "text/plain": [
       "3.637668607666786"
      ]
     },
     "execution_count": 32,
     "metadata": {},
     "output_type": "execute_result"
    }
   ],
   "source": [
    "cond(A)"
   ]
  },
  {
   "cell_type": "code",
   "execution_count": 34,
   "id": "limited-compatibility",
   "metadata": {},
   "outputs": [
    {
     "data": {
      "text/plain": [
       "3×3 Array{Int64,2}:\n",
       " 18  18  14\n",
       " 18  29  20\n",
       " 14  20  30"
      ]
     },
     "execution_count": 34,
     "metadata": {},
     "output_type": "execute_result"
    }
   ],
   "source": [
    "V = A'*A"
   ]
  },
  {
   "cell_type": "code",
   "execution_count": 36,
   "id": "incorporated-shield",
   "metadata": {},
   "outputs": [
    {
     "name": "stdout",
     "output_type": "stream",
     "text": [
      "[0.46365765258959585, 0.6382426181957052, 0.614546940041033]\n"
     ]
    },
    {
     "data": {
      "text/plain": [
       "61.333748889682425"
      ]
     },
     "execution_count": 36,
     "metadata": {},
     "output_type": "execute_result"
    }
   ],
   "source": [
    "x = [1,1,1]\n",
    "for i = 1:50\n",
    "    x = V * x \n",
    "    x = x / norm(x)\n",
    "end\n",
    "println(x)\n",
    "lambda_max = x'*V*x / (x'*x)\n"
   ]
  },
  {
   "cell_type": "code",
   "execution_count": 40,
   "id": "independent-visit",
   "metadata": {},
   "outputs": [
    {
     "data": {
      "text/plain": [
       "3×3 Array{Float64,2}:\n",
       " -43.3337   18.0      14.0\n",
       "  18.0     -32.3337   20.0\n",
       "  14.0      20.0     -31.3337"
      ]
     },
     "execution_count": 40,
     "metadata": {},
     "output_type": "execute_result"
    }
   ],
   "source": [
    "V_min = V - lambda_max*eye(3)"
   ]
  },
  {
   "cell_type": "code",
   "execution_count": 41,
   "id": "caring-person",
   "metadata": {},
   "outputs": [
    {
     "name": "stdout",
     "output_type": "stream",
     "text": [
      "[0.7757925783719438, -0.6274878002141051, 0.06636969131670403]\n"
     ]
    },
    {
     "data": {
      "text/plain": [
       "4.635044267854248"
      ]
     },
     "execution_count": 41,
     "metadata": {},
     "output_type": "execute_result"
    }
   ],
   "source": [
    "x = [1,1,1]\n",
    "for i = 1:50\n",
    "    x = V_min * x \n",
    "    x = x / norm(x)\n",
    "end\n",
    "println(x)\n",
    "lambda_min_dash = x'*V_min*x / (x'*x)\n",
    "lambda_min = lambda_min_dash + lambda_max"
   ]
  },
  {
   "cell_type": "code",
   "execution_count": 42,
   "id": "nutritional-dairy",
   "metadata": {},
   "outputs": [
    {
     "data": {
      "text/plain": [
       "Eigen{Float64,Float64,Array{Float64,2},Array{Float64,1}}\n",
       "values:\n",
       "3-element Array{Float64,1}:\n",
       "  4.635037437891141\n",
       " 11.03121367242645\n",
       " 61.33374888968244\n",
       "vectors:\n",
       "3×3 Array{Float64,2}:\n",
       "  0.77535   -0.428782  -0.463658\n",
       " -0.627948  -0.445339  -0.638243\n",
       "  0.067182   0.786014  -0.614547"
      ]
     },
     "execution_count": 42,
     "metadata": {},
     "output_type": "execute_result"
    }
   ],
   "source": [
    "e,v = eigen(V)"
   ]
  },
  {
   "cell_type": "code",
   "execution_count": 44,
   "id": "saving-skating",
   "metadata": {},
   "outputs": [
    {
     "data": {
      "text/plain": [
       "3.6376659275250107"
      ]
     },
     "execution_count": 44,
     "metadata": {},
     "output_type": "execute_result"
    }
   ],
   "source": [
    "sqrt(lambda_max/lambda_min)"
   ]
  },
  {
   "cell_type": "code",
   "execution_count": null,
   "id": "collaborative-maldives",
   "metadata": {},
   "outputs": [],
   "source": []
  }
 ],
 "metadata": {
  "@webio": {
   "lastCommId": null,
   "lastKernelId": null
  },
  "celltoolbar": "Raw Cell Format",
  "kernelspec": {
   "display_name": "Julia 1.5.4",
   "language": "julia",
   "name": "julia-1.5"
  },
  "language_info": {
   "file_extension": ".jl",
   "mimetype": "application/julia",
   "name": "julia",
   "version": "1.5.4"
  }
 },
 "nbformat": 4,
 "nbformat_minor": 5
}
