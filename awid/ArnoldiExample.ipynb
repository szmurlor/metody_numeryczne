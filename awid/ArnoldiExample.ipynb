{
 "cells": [
  {
   "cell_type": "markdown",
   "id": "73c052ef",
   "metadata": {},
   "source": [
    "Bibliografia:\n",
    "\n",
    "[1] Lloyd N. Trefethen, David Bau III, Numerical Linear Algebra, David Bau, https://www.cs.cmu.edu/afs/cs/academic/class/15859n-f16/Handouts/TrefethenBau/ArnoldiIteration-33.pdf"
   ]
  },
  {
   "cell_type": "code",
   "execution_count": 13,
   "id": "3e9ba51a",
   "metadata": {},
   "outputs": [],
   "source": [
    "using LinearAlgebra"
   ]
  },
  {
   "cell_type": "code",
   "execution_count": 7,
   "id": "30b8d230",
   "metadata": {},
   "outputs": [
    {
     "data": {
      "text/plain": [
       "4×4 LinearAlgebra.Adjoint{Int64,Array{Int64,2}}:\n",
       " 1   3   4  -2\n",
       " 2  -4  -1   2\n",
       " 3   5   1   1\n",
       " 2  -4  -2  -1"
      ]
     },
     "execution_count": 7,
     "metadata": {},
     "output_type": "execute_result"
    }
   ],
   "source": [
    "A = [1,3,4,-2,\n",
    "     2,-4,-1,2,\n",
    "     3,5,1,1,\n",
    "     2,-4,-2,-1]\n",
    "A = reshape(A,4,4)'"
   ]
  },
  {
   "cell_type": "markdown",
   "id": "bfac2a71",
   "metadata": {},
   "source": [
    "Algorytm Arnoldiego:\n",
    "Niech $A_{m\\times m}$\n",
    "\n",
    "b = dowolne o długości $m$, $q_1 = b /||b||$  \n",
    "for $k=1,2,3,\\ldots,n$  \n",
    "&nbsp;&nbsp;&nbsp;&nbsp;$v=Aq_k$  \n",
    "&nbsp;&nbsp;&nbsp;&nbsp;for j=1 to n  \n",
    "&nbsp;&nbsp;&nbsp;&nbsp;&nbsp;&nbsp;&nbsp;&nbsp;$h_{jk}=q_j^{*}v$  \n",
    "&nbsp;&nbsp;&nbsp;&nbsp;&nbsp;&nbsp;&nbsp;&nbsp;$v=v-h_{jk}q_j$  \n",
    "&nbsp;&nbsp;&nbsp;&nbsp;$h_{k+1,k} = ||v||$  \n",
    "&nbsp;&nbsp;&nbsp;&nbsp;$q_{k+1} = v/h_{k+1,k}$"
   ]
  },
  {
   "cell_type": "code",
   "execution_count": 59,
   "id": "91a22000",
   "metadata": {},
   "outputs": [
    {
     "data": {
      "text/plain": [
       "myarnoldi (generic function with 2 methods)"
      ]
     },
     "execution_count": 59,
     "metadata": {},
     "output_type": "execute_result"
    }
   ],
   "source": [
    "function myarnoldi(A,b=nothing)\n",
    "    n,m = size(A)\n",
    "    if b == nothing\n",
    "        b = rand(m,1)\n",
    "    end\n",
    "    Q = zeros(m,n)\n",
    "    H = zeros(m,n)\n",
    "\n",
    "    Q[:,1] = b / norm(b)\n",
    "    for k=1:n\n",
    "        v = A*Q[:,k]\n",
    "        for j=1:k\n",
    "            H[j,k] = Q[:,j]'*v\n",
    "            v = v - H[j,k]*Q[:,j]\n",
    "        end\n",
    "        if k < m\n",
    "            H[k+1,k] = norm(v)\n",
    "            Q[:,k+1] = v/H[k+1,k]\n",
    "        end\n",
    "    end\n",
    "    return Q,H\n",
    "end"
   ]
  },
  {
   "cell_type": "code",
   "execution_count": 60,
   "id": "1e679857",
   "metadata": {},
   "outputs": [
    {
     "data": {
      "text/plain": [
       "3×3 Array{Float64,2}:\n",
       " 10.7228   7.80251  -5.68989e-15\n",
       "  7.80251  1.15951   1.31026\n",
       "  0.0      1.31026   2.11765"
      ]
     },
     "metadata": {},
     "output_type": "display_data"
    },
    {
     "data": {
      "text/plain": [
       "3×3 Array{Float64,2}:\n",
       " 0.478685  -0.508101  -0.716026\n",
       " 0.73785   -0.209201   0.641726\n",
       " 0.475855   0.835505  -0.274761"
      ]
     },
     "metadata": {},
     "output_type": "display_data"
    },
    {
     "data": {
      "text/plain": [
       "1.2212453270876722e-15"
      ]
     },
     "execution_count": 60,
     "metadata": {},
     "output_type": "execute_result"
    }
   ],
   "source": [
    "Q,H = myarnoldi(A)\n",
    "display(H)\n",
    "display(Q)\n",
    "# sprawdzenie (oczekujemy zero bo A = QHQ', czyli AQ=QH)\n",
    "norm(A*Q - Q*H)"
   ]
  },
  {
   "cell_type": "code",
   "execution_count": 69,
   "id": "1658039b",
   "metadata": {},
   "outputs": [
    {
     "data": {
      "text/plain": [
       "3×3 Array{Float64,2}:\n",
       " 11.3333   6.94422  -2.66454e-15\n",
       "  6.94422  1.80261   2.92533\n",
       "  0.0      2.92533   0.864055"
      ]
     },
     "metadata": {},
     "output_type": "display_data"
    },
    {
     "data": {
      "text/plain": [
       "3×3 Array{Float64,2}:\n",
       " 0.57735  -0.692842   -0.432014\n",
       " 0.57735  -0.0277137   0.816026\n",
       " 0.57735   0.720556   -0.384012"
      ]
     },
     "metadata": {},
     "output_type": "display_data"
    },
    {
     "data": {
      "text/plain": [
       "1.3322676295501878e-15"
      ]
     },
     "execution_count": 69,
     "metadata": {},
     "output_type": "execute_result"
    }
   ],
   "source": [
    "A = [1 -1  3\n",
    "     -1 4 8\n",
    "     3 8 9]\n",
    "Q,H = myarnoldi(A,[1;1;1])\n",
    "display(H)\n",
    "display(Q)\n",
    "# sprawdzenie (oczekujemy zero bo A = QHQ', czyli AQ=QH)\n",
    "norm(A*Q - Q*H)"
   ]
  }
 ],
 "metadata": {
  "kernelspec": {
   "display_name": "Julia 1.5.4",
   "language": "julia",
   "name": "julia-1.5"
  },
  "language_info": {
   "file_extension": ".jl",
   "mimetype": "application/julia",
   "name": "julia",
   "version": "1.5.4"
  }
 },
 "nbformat": 4,
 "nbformat_minor": 5
}
