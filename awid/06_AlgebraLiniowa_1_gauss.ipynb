{
 "cells": [
  {
   "cell_type": "markdown",
   "id": "5d6b826e",
   "metadata": {},
   "source": [
    "# Wykład dotyczący przypomnienia podstaw numerycznej algebry liniowej\n",
    "\n",
    "Plan:\n",
    "\n",
    "* normy wektorów i macierzy\n",
    "* współczynnik uwarunkowania\n",
    "* eliminacja Gaussa\n",
    "* wsteczne podstawienie (do przodu i w tył)\n",
    "* eliminacja Gaussa-Jordana\n",
    "* faktoryzacja LU\n",
    "  * metoda Doolitle'a\n",
    "  * metoda eliminacji Gaussa\n",
    "* selekcja elementu głównego\n"
   ]
  },
  {
   "cell_type": "code",
   "execution_count": 11,
   "id": "noted-vacuum",
   "metadata": {},
   "outputs": [],
   "source": [
    "using LinearAlgebra"
   ]
  },
  {
   "cell_type": "markdown",
   "id": "73de7044",
   "metadata": {},
   "source": [
    "Przykład współczynnika uwarunkowania."
   ]
  },
  {
   "cell_type": "code",
   "execution_count": 12,
   "id": "9e02db36",
   "metadata": {},
   "outputs": [
    {
     "name": "stdout",
     "output_type": "stream",
     "text": [
      "cond(A) = 24992.00096006945\n",
      "|A^(-1)|*|A| = 24992.001000002758\n"
     ]
    },
    {
     "data": {
      "text/plain": [
       "2-element Array{Float64,1}:\n",
       " 1.9999999999991118\n",
       " 1.000000000000444"
      ]
     },
     "execution_count": 12,
     "metadata": {},
     "output_type": "execute_result"
    }
   ],
   "source": [
    "A = [1 2; 2 3.999]'\n",
    "b = [4, 7.999]\n",
    "c = cond(A) \n",
    "println(\"cond(A) = $c\")  # bardzo duuuży!\n",
    "println(\"|A^(-1)|*|A| = $(norm(inv(A), 2)*norm(A, 2))\")\n",
    "x1 = A\\b  # wynik to ~ [2,0] "
   ]
  },
  {
   "cell_type": "code",
   "execution_count": 13,
   "id": "11a7393b",
   "metadata": {},
   "outputs": [
    {
     "data": {
      "text/plain": [
       "2-element Array{Float64,1}:\n",
       " 4.0\n",
       " 0.0"
      ]
     },
     "execution_count": 13,
     "metadata": {},
     "output_type": "execute_result"
    }
   ],
   "source": [
    "b = [4,8]\n",
    "x2 = A\\b"
   ]
  },
  {
   "cell_type": "code",
   "execution_count": 14,
   "id": "69d6c9ee",
   "metadata": {},
   "outputs": [
    {
     "data": {
      "text/plain": [
       "2.7941906520227646"
      ]
     },
     "execution_count": 14,
     "metadata": {},
     "output_type": "execute_result"
    }
   ],
   "source": [
    "delta_b = 0.001 / norm(b)\n",
    "delta_x = c * delta_b"
   ]
  },
  {
   "cell_type": "code",
   "execution_count": 15,
   "id": "0caf106f",
   "metadata": {},
   "outputs": [
    {
     "data": {
      "text/plain": [
       "0.5590169943751957"
      ]
     },
     "execution_count": 15,
     "metadata": {},
     "output_type": "execute_result"
    }
   ],
   "source": [
    "rzeczywiste_delta_x = norm(x2-x1) / norm(x2)"
   ]
  },
  {
   "cell_type": "markdown",
   "id": "ccba2ca4",
   "metadata": {},
   "source": [
    "Zmieniamy wartość `A[2,2]` macierzy z 3.999 na 3."
   ]
  },
  {
   "cell_type": "code",
   "execution_count": 16,
   "id": "f32ceb0d",
   "metadata": {},
   "outputs": [
    {
     "name": "stdout",
     "output_type": "stream",
     "text": [
      "cond(A) = 17.944271909999173\n",
      "|A^(-1)|*|A| = 17.999999999999996\n"
     ]
    },
    {
     "data": {
      "text/plain": [
       "2-element Array{Float64,1}:\n",
       " 3.9979999999999993\n",
       " 0.001000000000000334"
      ]
     },
     "execution_count": 16,
     "metadata": {},
     "output_type": "execute_result"
    }
   ],
   "source": [
    "A = [1 2; 2 3]'\n",
    "b = [4, 7.999]\n",
    "c = cond(A) \n",
    "println(\"cond(A) = $c\")  # bardzo duuuży!\n",
    "println(\"|A^(-1)|*|A| = $(norm(inv(A), 2)*norm(A, 2))\")\n",
    "x1 = A\\b  # wynik to ~ [2,0] "
   ]
  },
  {
   "cell_type": "code",
   "execution_count": 17,
   "id": "17e9cf1e",
   "metadata": {},
   "outputs": [
    {
     "data": {
      "text/plain": [
       "2-element Array{Float64,1}:\n",
       " 4.0\n",
       " 0.0"
      ]
     },
     "execution_count": 17,
     "metadata": {},
     "output_type": "execute_result"
    }
   ],
   "source": [
    "b = [4,8]\n",
    "x2 = A\\b"
   ]
  },
  {
   "cell_type": "code",
   "execution_count": 18,
   "id": "2f9083bc",
   "metadata": {},
   "outputs": [
    {
     "data": {
      "text/plain": [
       "0.0020062305898749066"
      ]
     },
     "execution_count": 18,
     "metadata": {},
     "output_type": "execute_result"
    }
   ],
   "source": [
    "delta_b = 0.001 / norm(b)\n",
    "delta_x = c * delta_b"
   ]
  },
  {
   "cell_type": "code",
   "execution_count": 19,
   "id": "0bb466bd",
   "metadata": {},
   "outputs": [
    {
     "data": {
      "text/plain": [
       "0.0005590169943751341"
      ]
     },
     "execution_count": 19,
     "metadata": {},
     "output_type": "execute_result"
    }
   ],
   "source": [
    "rzeczywiste_delta_x = norm(x2-x1) / norm(x2)"
   ]
  },
  {
   "cell_type": "code",
   "execution_count": 20,
   "id": "14e6ed05",
   "metadata": {},
   "outputs": [
    {
     "name": "stdout",
     "output_type": "stream",
     "text": [
      "search: \u001b[0m\u001b[1mn\u001b[22m\u001b[0m\u001b[1mo\u001b[22m\u001b[0m\u001b[1mr\u001b[22m\u001b[0m\u001b[1mm\u001b[22m \u001b[0m\u001b[1mn\u001b[22m\u001b[0m\u001b[1mo\u001b[22m\u001b[0m\u001b[1mr\u001b[22m\u001b[0m\u001b[1mm\u001b[22mpath \u001b[0m\u001b[1mn\u001b[22m\u001b[0m\u001b[1mo\u001b[22m\u001b[0m\u001b[1mr\u001b[22m\u001b[0m\u001b[1mm\u001b[22malize \u001b[0m\u001b[1mn\u001b[22m\u001b[0m\u001b[1mo\u001b[22m\u001b[0m\u001b[1mr\u001b[22m\u001b[0m\u001b[1mm\u001b[22malize! \u001b[0m\u001b[1mn\u001b[22m\u001b[0m\u001b[1mo\u001b[22m\u001b[0m\u001b[1mr\u001b[22m\u001b[0m\u001b[1mm\u001b[22malize_hue op\u001b[0m\u001b[1mn\u001b[22m\u001b[0m\u001b[1mo\u001b[22m\u001b[0m\u001b[1mr\u001b[22m\u001b[0m\u001b[1mm\u001b[22m issub\u001b[0m\u001b[1mn\u001b[22m\u001b[0m\u001b[1mo\u001b[22m\u001b[0m\u001b[1mr\u001b[22m\u001b[0m\u001b[1mm\u001b[22mal\n",
      "\n"
     ]
    },
    {
     "data": {
      "text/latex": [
       "\\begin{verbatim}\n",
       "norm(A, p::Real=2)\n",
       "\\end{verbatim}\n",
       "For any iterable container \\texttt{A} (including arrays of any dimension) of numbers (or any element type for which \\texttt{norm} is defined), compute the \\texttt{p}-norm (defaulting to \\texttt{p=2}) as if \\texttt{A} were a vector of the corresponding length.\n",
       "\n",
       "The \\texttt{p}-norm is defined as\n",
       "\n",
       "$$\\|A\\|_p = \\left( \\sum_{i=1}^n | a_i | ^p \\right)^{1/p}$$\n",
       "with $a_i$ the entries of $A$, $| a_i |$ the \\href{@ref}{\\texttt{norm}} of $a_i$, and $n$ the length of $A$. Since the \\texttt{p}-norm is computed using the \\href{@ref}{\\texttt{norm}}s of the entries of \\texttt{A}, the \\texttt{p}-norm of a vector of vectors is not compatible with the interpretation of it as a block vector in general if \\texttt{p != 2}.\n",
       "\n",
       "\\texttt{p} can assume any numeric value (even though not all values produce a mathematically valid vector norm). In particular, \\texttt{norm(A, Inf)} returns the largest value in \\texttt{abs.(A)}, whereas \\texttt{norm(A, -Inf)} returns the smallest. If \\texttt{A} is a matrix and \\texttt{p=2}, then this is equivalent to the Frobenius norm.\n",
       "\n",
       "The second argument \\texttt{p} is not necessarily a part of the interface for \\texttt{norm}, i.e. a custom type may only implement \\texttt{norm(A)} without second argument.\n",
       "\n",
       "Use \\href{@ref}{\\texttt{opnorm}} to compute the operator norm of a matrix.\n",
       "\n",
       "\\section{Examples}\n",
       "\\begin{verbatim}\n",
       "julia> v = [3, -2, 6]\n",
       "3-element Array{Int64,1}:\n",
       "  3\n",
       " -2\n",
       "  6\n",
       "\n",
       "julia> norm(v)\n",
       "7.0\n",
       "\n",
       "julia> norm(v, 1)\n",
       "11.0\n",
       "\n",
       "julia> norm(v, Inf)\n",
       "6.0\n",
       "\n",
       "julia> norm([1 2 3; 4 5 6; 7 8 9])\n",
       "16.881943016134134\n",
       "\n",
       "julia> norm([1 2 3 4 5 6 7 8 9])\n",
       "16.881943016134134\n",
       "\n",
       "julia> norm(1:9)\n",
       "16.881943016134134\n",
       "\n",
       "julia> norm(hcat(v,v), 1) == norm(vcat(v,v), 1) != norm([v,v], 1)\n",
       "true\n",
       "\n",
       "julia> norm(hcat(v,v), 2) == norm(vcat(v,v), 2) == norm([v,v], 2)\n",
       "true\n",
       "\n",
       "julia> norm(hcat(v,v), Inf) == norm(vcat(v,v), Inf) != norm([v,v], Inf)\n",
       "true\n",
       "\\end{verbatim}\n",
       "\\rule{\\textwidth}{1pt}\n",
       "\\begin{verbatim}\n",
       "norm(x::Number, p::Real=2)\n",
       "\\end{verbatim}\n",
       "For numbers, return $\\left( |x|^p \\right)^{1/p}$.\n",
       "\n",
       "\\section{Examples}\n",
       "\\begin{verbatim}\n",
       "julia> norm(2, 1)\n",
       "2.0\n",
       "\n",
       "julia> norm(-2, 1)\n",
       "2.0\n",
       "\n",
       "julia> norm(2, 2)\n",
       "2.0\n",
       "\n",
       "julia> norm(-2, 2)\n",
       "2.0\n",
       "\n",
       "julia> norm(2, Inf)\n",
       "2.0\n",
       "\n",
       "julia> norm(-2, Inf)\n",
       "2.0\n",
       "\\end{verbatim}\n",
       "\\rule{\\textwidth}{1pt}\n",
       "\\begin{verbatim}\n",
       "norm(h::Histogram)\n",
       "\\end{verbatim}\n",
       "Calculate the norm of histogram \\texttt{h} as the absolute value of its integral.\n",
       "\n"
      ],
      "text/markdown": [
       "```\n",
       "norm(A, p::Real=2)\n",
       "```\n",
       "\n",
       "For any iterable container `A` (including arrays of any dimension) of numbers (or any element type for which `norm` is defined), compute the `p`-norm (defaulting to `p=2`) as if `A` were a vector of the corresponding length.\n",
       "\n",
       "The `p`-norm is defined as\n",
       "\n",
       "$$\n",
       "\\|A\\|_p = \\left( \\sum_{i=1}^n | a_i | ^p \\right)^{1/p}\n",
       "$$\n",
       "\n",
       "with $a_i$ the entries of $A$, $| a_i |$ the [`norm`](@ref) of $a_i$, and $n$ the length of $A$. Since the `p`-norm is computed using the [`norm`](@ref)s of the entries of `A`, the `p`-norm of a vector of vectors is not compatible with the interpretation of it as a block vector in general if `p != 2`.\n",
       "\n",
       "`p` can assume any numeric value (even though not all values produce a mathematically valid vector norm). In particular, `norm(A, Inf)` returns the largest value in `abs.(A)`, whereas `norm(A, -Inf)` returns the smallest. If `A` is a matrix and `p=2`, then this is equivalent to the Frobenius norm.\n",
       "\n",
       "The second argument `p` is not necessarily a part of the interface for `norm`, i.e. a custom type may only implement `norm(A)` without second argument.\n",
       "\n",
       "Use [`opnorm`](@ref) to compute the operator norm of a matrix.\n",
       "\n",
       "# Examples\n",
       "\n",
       "```jldoctest\n",
       "julia> v = [3, -2, 6]\n",
       "3-element Array{Int64,1}:\n",
       "  3\n",
       " -2\n",
       "  6\n",
       "\n",
       "julia> norm(v)\n",
       "7.0\n",
       "\n",
       "julia> norm(v, 1)\n",
       "11.0\n",
       "\n",
       "julia> norm(v, Inf)\n",
       "6.0\n",
       "\n",
       "julia> norm([1 2 3; 4 5 6; 7 8 9])\n",
       "16.881943016134134\n",
       "\n",
       "julia> norm([1 2 3 4 5 6 7 8 9])\n",
       "16.881943016134134\n",
       "\n",
       "julia> norm(1:9)\n",
       "16.881943016134134\n",
       "\n",
       "julia> norm(hcat(v,v), 1) == norm(vcat(v,v), 1) != norm([v,v], 1)\n",
       "true\n",
       "\n",
       "julia> norm(hcat(v,v), 2) == norm(vcat(v,v), 2) == norm([v,v], 2)\n",
       "true\n",
       "\n",
       "julia> norm(hcat(v,v), Inf) == norm(vcat(v,v), Inf) != norm([v,v], Inf)\n",
       "true\n",
       "```\n",
       "\n",
       "---\n",
       "\n",
       "```\n",
       "norm(x::Number, p::Real=2)\n",
       "```\n",
       "\n",
       "For numbers, return $\\left( |x|^p \\right)^{1/p}$.\n",
       "\n",
       "# Examples\n",
       "\n",
       "```jldoctest\n",
       "julia> norm(2, 1)\n",
       "2.0\n",
       "\n",
       "julia> norm(-2, 1)\n",
       "2.0\n",
       "\n",
       "julia> norm(2, 2)\n",
       "2.0\n",
       "\n",
       "julia> norm(-2, 2)\n",
       "2.0\n",
       "\n",
       "julia> norm(2, Inf)\n",
       "2.0\n",
       "\n",
       "julia> norm(-2, Inf)\n",
       "2.0\n",
       "```\n",
       "\n",
       "---\n",
       "\n",
       "```\n",
       "norm(h::Histogram)\n",
       "```\n",
       "\n",
       "Calculate the norm of histogram `h` as the absolute value of its integral.\n"
      ],
      "text/plain": [
       "\u001b[36m  norm(A, p::Real=2)\u001b[39m\n",
       "\n",
       "  For any iterable container \u001b[36mA\u001b[39m (including arrays of any dimension) of numbers\n",
       "  (or any element type for which \u001b[36mnorm\u001b[39m is defined), compute the \u001b[36mp\u001b[39m-norm\n",
       "  (defaulting to \u001b[36mp=2\u001b[39m) as if \u001b[36mA\u001b[39m were a vector of the corresponding length.\n",
       "\n",
       "  The \u001b[36mp\u001b[39m-norm is defined as\n",
       "\n",
       "\u001b[35m  \\|A\\|_p = \\left( \\sum_{i=1}^n | a_i | ^p \\right)^{1/p}\u001b[39m\n",
       "\n",
       "  with \u001b[35ma_i\u001b[39m the entries of \u001b[35mA\u001b[39m, \u001b[35m| a_i |\u001b[39m the \u001b[36mnorm\u001b[39m of \u001b[35ma_i\u001b[39m, and \u001b[35mn\u001b[39m the length of \u001b[35mA\u001b[39m.\n",
       "  Since the \u001b[36mp\u001b[39m-norm is computed using the \u001b[36mnorm\u001b[39ms of the entries of \u001b[36mA\u001b[39m, the \u001b[36mp\u001b[39m-norm\n",
       "  of a vector of vectors is not compatible with the interpretation of it as a\n",
       "  block vector in general if \u001b[36mp != 2\u001b[39m.\n",
       "\n",
       "  \u001b[36mp\u001b[39m can assume any numeric value (even though not all values produce a\n",
       "  mathematically valid vector norm). In particular, \u001b[36mnorm(A, Inf)\u001b[39m returns the\n",
       "  largest value in \u001b[36mabs.(A)\u001b[39m, whereas \u001b[36mnorm(A, -Inf)\u001b[39m returns the smallest. If \u001b[36mA\u001b[39m\n",
       "  is a matrix and \u001b[36mp=2\u001b[39m, then this is equivalent to the Frobenius norm.\n",
       "\n",
       "  The second argument \u001b[36mp\u001b[39m is not necessarily a part of the interface for \u001b[36mnorm\u001b[39m,\n",
       "  i.e. a custom type may only implement \u001b[36mnorm(A)\u001b[39m without second argument.\n",
       "\n",
       "  Use \u001b[36mopnorm\u001b[39m to compute the operator norm of a matrix.\n",
       "\n",
       "\u001b[1m  Examples\u001b[22m\n",
       "\u001b[1m  ≡≡≡≡≡≡≡≡≡≡\u001b[22m\n",
       "\n",
       "\u001b[36m  julia> v = [3, -2, 6]\u001b[39m\n",
       "\u001b[36m  3-element Array{Int64,1}:\u001b[39m\n",
       "\u001b[36m    3\u001b[39m\n",
       "\u001b[36m   -2\u001b[39m\n",
       "\u001b[36m    6\u001b[39m\n",
       "\u001b[36m  \u001b[39m\n",
       "\u001b[36m  julia> norm(v)\u001b[39m\n",
       "\u001b[36m  7.0\u001b[39m\n",
       "\u001b[36m  \u001b[39m\n",
       "\u001b[36m  julia> norm(v, 1)\u001b[39m\n",
       "\u001b[36m  11.0\u001b[39m\n",
       "\u001b[36m  \u001b[39m\n",
       "\u001b[36m  julia> norm(v, Inf)\u001b[39m\n",
       "\u001b[36m  6.0\u001b[39m\n",
       "\u001b[36m  \u001b[39m\n",
       "\u001b[36m  julia> norm([1 2 3; 4 5 6; 7 8 9])\u001b[39m\n",
       "\u001b[36m  16.881943016134134\u001b[39m\n",
       "\u001b[36m  \u001b[39m\n",
       "\u001b[36m  julia> norm([1 2 3 4 5 6 7 8 9])\u001b[39m\n",
       "\u001b[36m  16.881943016134134\u001b[39m\n",
       "\u001b[36m  \u001b[39m\n",
       "\u001b[36m  julia> norm(1:9)\u001b[39m\n",
       "\u001b[36m  16.881943016134134\u001b[39m\n",
       "\u001b[36m  \u001b[39m\n",
       "\u001b[36m  julia> norm(hcat(v,v), 1) == norm(vcat(v,v), 1) != norm([v,v], 1)\u001b[39m\n",
       "\u001b[36m  true\u001b[39m\n",
       "\u001b[36m  \u001b[39m\n",
       "\u001b[36m  julia> norm(hcat(v,v), 2) == norm(vcat(v,v), 2) == norm([v,v], 2)\u001b[39m\n",
       "\u001b[36m  true\u001b[39m\n",
       "\u001b[36m  \u001b[39m\n",
       "\u001b[36m  julia> norm(hcat(v,v), Inf) == norm(vcat(v,v), Inf) != norm([v,v], Inf)\u001b[39m\n",
       "\u001b[36m  true\u001b[39m\n",
       "\n",
       "  ────────────────────────────────────────────────────────────────────────────\n",
       "\n",
       "\u001b[36m  norm(x::Number, p::Real=2)\u001b[39m\n",
       "\n",
       "  For numbers, return \u001b[35m\\left( |x|^p \\right)^{1/p}\u001b[39m.\n",
       "\n",
       "\u001b[1m  Examples\u001b[22m\n",
       "\u001b[1m  ≡≡≡≡≡≡≡≡≡≡\u001b[22m\n",
       "\n",
       "\u001b[36m  julia> norm(2, 1)\u001b[39m\n",
       "\u001b[36m  2.0\u001b[39m\n",
       "\u001b[36m  \u001b[39m\n",
       "\u001b[36m  julia> norm(-2, 1)\u001b[39m\n",
       "\u001b[36m  2.0\u001b[39m\n",
       "\u001b[36m  \u001b[39m\n",
       "\u001b[36m  julia> norm(2, 2)\u001b[39m\n",
       "\u001b[36m  2.0\u001b[39m\n",
       "\u001b[36m  \u001b[39m\n",
       "\u001b[36m  julia> norm(-2, 2)\u001b[39m\n",
       "\u001b[36m  2.0\u001b[39m\n",
       "\u001b[36m  \u001b[39m\n",
       "\u001b[36m  julia> norm(2, Inf)\u001b[39m\n",
       "\u001b[36m  2.0\u001b[39m\n",
       "\u001b[36m  \u001b[39m\n",
       "\u001b[36m  julia> norm(-2, Inf)\u001b[39m\n",
       "\u001b[36m  2.0\u001b[39m\n",
       "\n",
       "  ────────────────────────────────────────────────────────────────────────────\n",
       "\n",
       "\u001b[36m  norm(h::Histogram)\u001b[39m\n",
       "\n",
       "  Calculate the norm of histogram \u001b[36mh\u001b[39m as the absolute value of its integral."
      ]
     },
     "execution_count": 20,
     "metadata": {},
     "output_type": "execute_result"
    }
   ],
   "source": [
    "?norm"
   ]
  },
  {
   "cell_type": "code",
   "execution_count": 21,
   "id": "ef8ed87f",
   "metadata": {},
   "outputs": [
    {
     "data": {
      "text/plain": [
       "gaussian (generic function with 1 method)"
      ]
     },
     "execution_count": 21,
     "metadata": {},
     "output_type": "execute_result"
    }
   ],
   "source": [
    "function gaussian(A,b)\n",
    "  Ag = [A b]\n",
    "  n = size(Ag,1);\n",
    "  for k=1:n-1\n",
    "    for i = k+1:n\n",
    "      l = Ag[i,k] / Ag[k,k];\n",
    "      for j = k:n+1\n",
    "        Ag[i,j] = Ag[i,j] - l * Ag[k,j]; \n",
    "      end\n",
    "    end\n",
    "  end   \n",
    "  return Ag\n",
    "end"
   ]
  },
  {
   "cell_type": "code",
   "execution_count": 22,
   "id": "1dc6a60d",
   "metadata": {},
   "outputs": [
    {
     "data": {
      "text/plain": [
       "backward (generic function with 1 method)"
      ]
     },
     "execution_count": 22,
     "metadata": {},
     "output_type": "execute_result"
    }
   ],
   "source": [
    "function backward(U,c)\n",
    "    n = size(U,1);\n",
    "    x = zeros(n,1);\n",
    "    for i = n:-1:1\n",
    "        s = 0;\n",
    "        for j = i+1:n\n",
    "            s = s + U[i,j]*x[j];\n",
    "        end\n",
    "        x[i] = (c[i] - s) / U[i,i];\n",
    "    end\n",
    "    return x\n",
    "end "
   ]
  },
  {
   "cell_type": "code",
   "execution_count": 23,
   "id": "b3c099dc",
   "metadata": {},
   "outputs": [
    {
     "data": {
      "text/plain": [
       "forward (generic function with 1 method)"
      ]
     },
     "execution_count": 23,
     "metadata": {},
     "output_type": "execute_result"
    }
   ],
   "source": [
    "function forward(L,c)\n",
    "    n = size(L,1);\n",
    "    x = zeros(n,1);\n",
    "    for i = 1:n\n",
    "        s = 0;\n",
    "        for j = 1:i-1\n",
    "            s = s + L[i,j]*x[j];\n",
    "        end\n",
    "        x[i] = (c[i] - s) / L[i,i];\n",
    "    end\n",
    "    return x\n",
    "end"
   ]
  },
  {
   "cell_type": "markdown",
   "id": "3c45cb24",
   "metadata": {},
   "source": [
    "Na slajdach zastosowaliśmy bardzo grube zaokrąglenie! Tutaj wynik jest właściwy ze względu na bardzo dużą precyzję i niewielką macierz."
   ]
  },
  {
   "cell_type": "code",
   "execution_count": 24,
   "id": "1d440883",
   "metadata": {},
   "outputs": [
    {
     "data": {
      "text/plain": [
       "2×1 Array{Float64,2}:\n",
       " 10.000784096803272\n",
       "  1.0006767791490625"
      ]
     },
     "execution_count": 24,
     "metadata": {},
     "output_type": "execute_result"
    }
   ],
   "source": [
    "A = [0.003  59.1;\n",
    "5.291  -6.13 ]\n",
    "b = [59.17;\n",
    "     46.78]\n",
    "Ag = gaussian(A,b)\n",
    "x = backward(Ag[:, 1:end-1], Ag[:,end])"
   ]
  },
  {
   "cell_type": "code",
   "execution_count": 25,
   "id": "4f2f2ff7",
   "metadata": {},
   "outputs": [
    {
     "data": {
      "text/plain": [
       "gauss_jordan (generic function with 1 method)"
      ]
     },
     "execution_count": 25,
     "metadata": {},
     "output_type": "execute_result"
    }
   ],
   "source": [
    "function gauss_jordan(A,b)\n",
    "  Ag = [A b]\n",
    "  n = size(Ag,1);\n",
    "  for k=1:n\n",
    "    Ag[k,:] = Ag[k,:] / Ag[k,k];\n",
    "    for i = 1:n\n",
    "      if k != i\n",
    "          l = Ag[i,k] / Ag[k,k];\n",
    "          Ag[i,k:end] = Ag[i,k:end] - l * Ag[k,k:end];       \n",
    "      end\n",
    "    end\n",
    "  end\n",
    "  return Ag\n",
    "end"
   ]
  },
  {
   "cell_type": "code",
   "execution_count": 26,
   "id": "3d13440b",
   "metadata": {},
   "outputs": [
    {
     "data": {
      "text/plain": [
       "2×3 Array{Float64,2}:\n",
       "  1.0  0.0  10.0008\n",
       " -0.0  1.0   1.00068"
      ]
     },
     "execution_count": 26,
     "metadata": {},
     "output_type": "execute_result"
    }
   ],
   "source": [
    "A = [0.003  59.1;\n",
    "5.291  -6.13 ]\n",
    "b = [59.17;\n",
    "     46.78]\n",
    "Ag = gauss_jordan(A,b)"
   ]
  },
  {
   "cell_type": "markdown",
   "id": "cb042925",
   "metadata": {},
   "source": [
    "A teraz spróbujemy obliczyć macierz odwrotną.\n",
    "\n",
    "Zamiast wektora prawych stron przekażemy macierz jednostkową."
   ]
  },
  {
   "cell_type": "code",
   "execution_count": 27,
   "id": "ed081072",
   "metadata": {},
   "outputs": [
    {
     "data": {
      "text/plain": [
       "2×4 Array{Float64,2}:\n",
       "  1.0  0.0  0.0196024   0.188989\n",
       " -0.0  1.0  0.0169195  -9.59335e-6"
      ]
     },
     "execution_count": 27,
     "metadata": {},
     "output_type": "execute_result"
    }
   ],
   "source": [
    "Ag = gauss_jordan(A,I)"
   ]
  },
  {
   "cell_type": "markdown",
   "id": "9467e218",
   "metadata": {},
   "source": [
    "## Dekompozycja LU (faktoryzacja, rozkłąd na czynniki)"
   ]
  },
  {
   "cell_type": "code",
   "execution_count": 28,
   "id": "c02d81c5",
   "metadata": {},
   "outputs": [
    {
     "data": {
      "text/plain": [
       "eye (generic function with 1 method)"
      ]
     },
     "execution_count": 28,
     "metadata": {},
     "output_type": "execute_result"
    }
   ],
   "source": [
    "function eye(n)\n",
    "    return Matrix{Float64}(I,n,n)\n",
    "end"
   ]
  },
  {
   "cell_type": "code",
   "execution_count": 29,
   "id": "42ab7043",
   "metadata": {},
   "outputs": [
    {
     "data": {
      "text/plain": [
       "doolitle (generic function with 1 method)"
      ]
     },
     "execution_count": 29,
     "metadata": {},
     "output_type": "execute_result"
    }
   ],
   "source": [
    "function doolitle(A)\n",
    "    n = size(A,1);\n",
    "    L = eye(n);\n",
    "    U = zeros(n,n);\n",
    "    U[1,:] = A[1,:]\n",
    "    L[2:n,1] = A[2:n,1] / U[1,1];\n",
    "    \n",
    "    for i = 2:n\n",
    "        for k = i:n\n",
    "            s = 0;\n",
    "            for j=1:i-1\n",
    "                s = s + L[i,j]*U[j,k]\n",
    "            end\n",
    "            U[i,k] = A[i,k] - s\n",
    "        end\n",
    "        for k = i+1:n\n",
    "            s = 0\n",
    "            for j=1:i-1\n",
    "                s = s + L[k,j]*U[j,i];\n",
    "            end\n",
    "            L[k,i] = (A[k,i] - s) / U[i,i];\n",
    "        end\n",
    "    end   \n",
    "    return L,U\n",
    "end"
   ]
  },
  {
   "cell_type": "code",
   "execution_count": 30,
   "id": "1e7eb89a",
   "metadata": {},
   "outputs": [
    {
     "data": {
      "text/plain": [
       "4×4 Array{Float64,2}:\n",
       " 1.0  0.0       0.0      0.0\n",
       " 4.0  1.0       0.0      0.0\n",
       " 3.0  0.714286  1.0      0.0\n",
       " 8.0  2.42857   3.55556  1.0"
      ]
     },
     "metadata": {},
     "output_type": "display_data"
    },
    {
     "data": {
      "text/plain": [
       "4×4 Array{Float64,2}:\n",
       " 1.0  -1.0   1.0       1.0\n",
       " 0.0   7.0  -5.0      -2.0\n",
       " 0.0   0.0   2.57143   3.42857\n",
       " 0.0   0.0   0.0      -7.33333"
      ]
     },
     "metadata": {},
     "output_type": "display_data"
    },
    {
     "data": {
      "text/plain": [
       "4×4 Array{Float64,2}:\n",
       " 0.0  0.0          0.0          0.0\n",
       " 0.0  0.0          0.0          0.0\n",
       " 0.0  0.0          0.0          0.0\n",
       " 0.0  1.77636e-15  8.88178e-16  0.0"
      ]
     },
     "metadata": {},
     "output_type": "display_data"
    }
   ],
   "source": [
    "A = [1 -1 1 1\n",
    "    4 3 -1 2\n",
    "    3 2 2 5\n",
    "    8 9 5 8];\n",
    "b = [4 6 15 1]'\n",
    "L, U = doolitle(A)\n",
    "display(L)\n",
    "display(U)\n",
    "display(A - L*U)  # powinno zwrócić macierz bliską zeru"
   ]
  },
  {
   "cell_type": "markdown",
   "id": "3e3e24e5",
   "metadata": {},
   "source": [
    "Dekompozycja LU metodą eliminacji Gaussa"
   ]
  },
  {
   "cell_type": "code",
   "execution_count": 31,
   "id": "5c7fbe47",
   "metadata": {},
   "outputs": [
    {
     "data": {
      "text/plain": [
       "lu_gaussian (generic function with 1 method)"
      ]
     },
     "execution_count": 31,
     "metadata": {},
     "output_type": "execute_result"
    }
   ],
   "source": [
    "function lu_gaussian(A)\n",
    "    n = size(A, 1);\n",
    "    L = eye(n);\n",
    "    for c = 1:n-1\n",
    "        for r = c+1:n            \n",
    "            f = A[r,c] / A[c,c];\n",
    "            A[r, :] = A[r, :] - f*A[c,:];\n",
    "            L[r, c] = f;\n",
    "        end\n",
    "    end\n",
    "    return L,A\n",
    "end"
   ]
  },
  {
   "cell_type": "code",
   "execution_count": 32,
   "id": "b8e5a872",
   "metadata": {},
   "outputs": [
    {
     "data": {
      "text/plain": [
       "4×4 Array{Float64,2}:\n",
       " 0.0253537  0.872085  0.0622252  0.572571\n",
       " 0.812664   0.494769  0.463935   0.724954\n",
       " 0.524582   0.400107  0.722851   0.226687\n",
       " 0.709835   0.139847  0.836546   0.0813297"
      ]
     },
     "metadata": {},
     "output_type": "display_data"
    },
    {
     "data": {
      "text/plain": [
       "4×4 Array{Float64,2}:\n",
       "  1.0     0.0       0.0      0.0\n",
       " 32.0531  1.0       0.0      0.0\n",
       " 20.6905  0.642568  1.0      0.0\n",
       " 27.9973  0.884112  1.06859  1.0"
      ]
     },
     "metadata": {},
     "output_type": "display_data"
    },
    {
     "data": {
      "text/plain": [
       "4×4 Array{Float64,2}:\n",
       " 0.0253537    0.872085   0.0622252      0.572571\n",
       " 0.0        -27.4582    -1.53058      -17.6277\n",
       " 0.0          0.0        0.418877      -0.293105\n",
       " 0.0          0.0       -5.55112e-17   -0.0510218"
      ]
     },
     "metadata": {},
     "output_type": "display_data"
    },
    {
     "data": {
      "text/plain": [
       "4×4 Array{Float64,2}:\n",
       " 0.0   0.0          0.0   0.0\n",
       " 0.0  -1.11022e-15  0.0   6.66134e-16\n",
       " 0.0  -4.996e-16    0.0  -1.11022e-15\n",
       " 0.0  -1.77636e-15  0.0   3.88578e-16"
      ]
     },
     "metadata": {},
     "output_type": "display_data"
    },
    {
     "data": {
      "text/plain": [
       "2.5426288831284585e-15"
      ]
     },
     "execution_count": 32,
     "metadata": {},
     "output_type": "execute_result"
    }
   ],
   "source": [
    "A = rand(4,4)\n",
    "L, U = lu_gaussian(copy(A))\n",
    "display(A)\n",
    "display(L)\n",
    "display(U)\n",
    "display(L * U - A)\n",
    "norm(L * U - A, 2)"
   ]
  },
  {
   "cell_type": "markdown",
   "id": "47df8ba3",
   "metadata": {},
   "source": [
    "## Przykład obliczeniowy"
   ]
  },
  {
   "cell_type": "code",
   "execution_count": 33,
   "id": "c229475a",
   "metadata": {},
   "outputs": [
    {
     "data": {
      "text/plain": [
       "3×3 Array{Float64,2}:\n",
       " 1.0       0.0  0.0\n",
       " 0.333333  1.0  0.0\n",
       " 0.666667  0.5  1.0"
      ]
     },
     "metadata": {},
     "output_type": "display_data"
    },
    {
     "data": {
      "text/plain": [
       "3×3 Array{Float64,2}:\n",
       " 3.0  1.0        6.0\n",
       " 0.0  0.666667  -1.0\n",
       " 0.0  0.0       -0.5"
      ]
     },
     "metadata": {},
     "output_type": "display_data"
    },
    {
     "data": {
      "text/plain": [
       "3×1 Array{Float64,2}:\n",
       "  49.0\n",
       " -22.999999999999996\n",
       " -20.0"
      ]
     },
     "metadata": {},
     "output_type": "display_data"
    },
    {
     "data": {
      "text/plain": [
       "3.552713678800501e-15"
      ]
     },
     "metadata": {},
     "output_type": "display_data"
    }
   ],
   "source": [
    "A = [3.0 1 6\n",
    "     1 1 1\n",
    "     2 1 3]\n",
    "b = [4\n",
    "     6\n",
    "     15]\n",
    "\n",
    "L,U = lu_gaussian(copy(A))\n",
    "display(L)\n",
    "display(U)\n",
    "\n",
    "y = forward(L,b)\n",
    "x = backward(U,y)\n",
    "display(x)\n",
    "\n",
    "display(norm(b - A*x)) # spodziewamy się 0"
   ]
  },
  {
   "cell_type": "markdown",
   "id": "eb9f8cbe",
   "metadata": {},
   "source": [
    "## Elimnacja Gaussa z selekcją elementu głównego"
   ]
  },
  {
   "cell_type": "code",
   "execution_count": 34,
   "id": "9c8be08c",
   "metadata": {},
   "outputs": [
    {
     "data": {
      "text/plain": [
       "gaussian_pivot (generic function with 1 method)"
      ]
     },
     "execution_count": 34,
     "metadata": {},
     "output_type": "execute_result"
    }
   ],
   "source": [
    "function gaussian_pivot(A,b)\n",
    "  Ag = [A b]\n",
    "  n = size(Ag,1);\n",
    "  for k=1:n-1\n",
    "    for i = k+1:n\n",
    "      idx = argmax(Ag[k:end,k]) + k - 1\n",
    "      tmp = Ag[idx,:]\n",
    "      Ag[idx,:] = Ag[k,:]    \n",
    "      Ag[k,:] = tmp\n",
    "            \n",
    "      l = Ag[i,k] / Ag[k,k];\n",
    "      Ag[i,k:end] = Ag[i,k:end] - l * Ag[k,k:end]; \n",
    "    end\n",
    "  end   \n",
    "  return Ag\n",
    "end"
   ]
  },
  {
   "cell_type": "code",
   "execution_count": 47,
   "id": "2f785ad5",
   "metadata": {},
   "outputs": [
    {
     "data": {
      "text/plain": [
       "\"Rozwiązanie:\""
      ]
     },
     "metadata": {},
     "output_type": "display_data"
    },
    {
     "data": {
      "text/plain": [
       "3×1 Array{Float64,2}:\n",
       " 0.8333333333333334\n",
       " 0.5833333333333334\n",
       " 0.16666666666666669"
      ]
     },
     "metadata": {},
     "output_type": "display_data"
    },
    {
     "data": {
      "text/plain": [
       "0.0"
      ]
     },
     "execution_count": 47,
     "metadata": {},
     "output_type": "execute_result"
    }
   ],
   "source": [
    "A = [0.1 1 2\n",
    "     0 4 -2\n",
    "     3 0 3]\n",
    "b = [1\n",
    "     2\n",
    "     3]\n",
    "Ag = gaussian_pivot(A,b)\n",
    "x = backward(Ag[:,1:end-1], Ag[:,end])\n",
    "display(\"Rozwiązanie:\")\n",
    "display(x)\n",
    "\n",
    "norm(A*x-b) # oczekujemy 0"
   ]
  }
 ],
 "metadata": {
  "kernelspec": {
   "display_name": "Julia 1.5.4",
   "language": "julia",
   "name": "julia-1.5"
  },
  "language_info": {
   "file_extension": ".jl",
   "mimetype": "application/julia",
   "name": "julia",
   "version": "1.5.4"
  }
 },
 "nbformat": 4,
 "nbformat_minor": 5
}
